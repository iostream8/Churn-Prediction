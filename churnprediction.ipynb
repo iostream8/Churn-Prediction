{
 "cells": [
  {
   "cell_type": "code",
   "execution_count": 210,
   "metadata": {
    "_cell_guid": "b1076dfc-b9ad-4769-8c92-a6c4dae69d19",
    "_uuid": "8f2839f25d086af736a60e9eeb907d3b93b6e0e5",
    "execution": {
     "iopub.execute_input": "2025-08-13T08:16:02.879556Z",
     "iopub.status.busy": "2025-08-13T08:16:02.879159Z",
     "iopub.status.idle": "2025-08-13T08:16:02.891841Z",
     "shell.execute_reply": "2025-08-13T08:16:02.890770Z",
     "shell.execute_reply.started": "2025-08-13T08:16:02.879526Z"
    },
    "trusted": true
   },
   "outputs": [
    {
     "name": "stdout",
     "output_type": "stream",
     "text": [
      "/kaggle/input/credit-card-customer-churn-prediction/Churn_Modelling.csv\n"
     ]
    }
   ],
   "source": [
    "# This Python 3 environment comes with many helpful analytics libraries installed\n",
    "# It is defined by the kaggle/python Docker image: https://github.com/kaggle/docker-python\n",
    "# For example, here's several helpful packages to load\n",
    "\n",
    "import numpy as np # linear algebra\n",
    "import pandas as pd # data processing, CSV file I/O (e.g. pd.read_csv)\n",
    "\n",
    "# Input data files are available in the read-only \"../input/\" directory\n",
    "# For example, running this (by clicking run or pressing Shift+Enter) will list all files under the input directory\n",
    "\n",
    "import os\n",
    "for dirname, _, filenames in os.walk('/kaggle/input'):\n",
    "    for filename in filenames:\n",
    "        print(os.path.join(dirname, filename))\n",
    "\n",
    "# You can write up to 20GB to the current directory (/kaggle/working/) that gets preserved as output when you create a version using \"Save & Run All\" \n",
    "# You can also write temporary files to /kaggle/temp/, but they won't be saved outside of the current session"
   ]
  },
  {
   "cell_type": "code",
   "execution_count": 211,
   "metadata": {
    "execution": {
     "iopub.execute_input": "2025-08-13T08:16:02.894295Z",
     "iopub.status.busy": "2025-08-13T08:16:02.893921Z",
     "iopub.status.idle": "2025-08-13T08:16:02.931711Z",
     "shell.execute_reply": "2025-08-13T08:16:02.930701Z",
     "shell.execute_reply.started": "2025-08-13T08:16:02.894236Z"
    },
    "trusted": true
   },
   "outputs": [],
   "source": [
    "df=pd.read_csv(\"/kaggle/input/credit-card-customer-churn-prediction/Churn_Modelling.csv\")"
   ]
  },
  {
   "cell_type": "code",
   "execution_count": 212,
   "metadata": {
    "execution": {
     "iopub.execute_input": "2025-08-13T08:16:02.933077Z",
     "iopub.status.busy": "2025-08-13T08:16:02.932759Z",
     "iopub.status.idle": "2025-08-13T08:16:02.939499Z",
     "shell.execute_reply": "2025-08-13T08:16:02.938716Z",
     "shell.execute_reply.started": "2025-08-13T08:16:02.933051Z"
    },
    "trusted": true
   },
   "outputs": [
    {
     "data": {
      "text/plain": [
       "(10000, 14)"
      ]
     },
     "execution_count": 212,
     "metadata": {},
     "output_type": "execute_result"
    }
   ],
   "source": [
    "df.shape"
   ]
  },
  {
   "cell_type": "code",
   "execution_count": 213,
   "metadata": {
    "execution": {
     "iopub.execute_input": "2025-08-13T08:16:02.940635Z",
     "iopub.status.busy": "2025-08-13T08:16:02.940418Z",
     "iopub.status.idle": "2025-08-13T08:16:02.968788Z",
     "shell.execute_reply": "2025-08-13T08:16:02.967701Z",
     "shell.execute_reply.started": "2025-08-13T08:16:02.940618Z"
    },
    "trusted": true
   },
   "outputs": [
    {
     "data": {
      "text/html": [
       "<div>\n",
       "<style scoped>\n",
       "    .dataframe tbody tr th:only-of-type {\n",
       "        vertical-align: middle;\n",
       "    }\n",
       "\n",
       "    .dataframe tbody tr th {\n",
       "        vertical-align: top;\n",
       "    }\n",
       "\n",
       "    .dataframe thead th {\n",
       "        text-align: right;\n",
       "    }\n",
       "</style>\n",
       "<table border=\"1\" class=\"dataframe\">\n",
       "  <thead>\n",
       "    <tr style=\"text-align: right;\">\n",
       "      <th></th>\n",
       "      <th>RowNumber</th>\n",
       "      <th>CustomerId</th>\n",
       "      <th>Surname</th>\n",
       "      <th>CreditScore</th>\n",
       "      <th>Geography</th>\n",
       "      <th>Gender</th>\n",
       "      <th>Age</th>\n",
       "      <th>Tenure</th>\n",
       "      <th>Balance</th>\n",
       "      <th>NumOfProducts</th>\n",
       "      <th>HasCrCard</th>\n",
       "      <th>IsActiveMember</th>\n",
       "      <th>EstimatedSalary</th>\n",
       "      <th>Exited</th>\n",
       "    </tr>\n",
       "  </thead>\n",
       "  <tbody>\n",
       "    <tr>\n",
       "      <th>0</th>\n",
       "      <td>1</td>\n",
       "      <td>15634602</td>\n",
       "      <td>Hargrave</td>\n",
       "      <td>619</td>\n",
       "      <td>France</td>\n",
       "      <td>Female</td>\n",
       "      <td>42</td>\n",
       "      <td>2</td>\n",
       "      <td>0.00</td>\n",
       "      <td>1</td>\n",
       "      <td>1</td>\n",
       "      <td>1</td>\n",
       "      <td>101348.88</td>\n",
       "      <td>1</td>\n",
       "    </tr>\n",
       "    <tr>\n",
       "      <th>1</th>\n",
       "      <td>2</td>\n",
       "      <td>15647311</td>\n",
       "      <td>Hill</td>\n",
       "      <td>608</td>\n",
       "      <td>Spain</td>\n",
       "      <td>Female</td>\n",
       "      <td>41</td>\n",
       "      <td>1</td>\n",
       "      <td>83807.86</td>\n",
       "      <td>1</td>\n",
       "      <td>0</td>\n",
       "      <td>1</td>\n",
       "      <td>112542.58</td>\n",
       "      <td>0</td>\n",
       "    </tr>\n",
       "    <tr>\n",
       "      <th>2</th>\n",
       "      <td>3</td>\n",
       "      <td>15619304</td>\n",
       "      <td>Onio</td>\n",
       "      <td>502</td>\n",
       "      <td>France</td>\n",
       "      <td>Female</td>\n",
       "      <td>42</td>\n",
       "      <td>8</td>\n",
       "      <td>159660.80</td>\n",
       "      <td>3</td>\n",
       "      <td>1</td>\n",
       "      <td>0</td>\n",
       "      <td>113931.57</td>\n",
       "      <td>1</td>\n",
       "    </tr>\n",
       "    <tr>\n",
       "      <th>3</th>\n",
       "      <td>4</td>\n",
       "      <td>15701354</td>\n",
       "      <td>Boni</td>\n",
       "      <td>699</td>\n",
       "      <td>France</td>\n",
       "      <td>Female</td>\n",
       "      <td>39</td>\n",
       "      <td>1</td>\n",
       "      <td>0.00</td>\n",
       "      <td>2</td>\n",
       "      <td>0</td>\n",
       "      <td>0</td>\n",
       "      <td>93826.63</td>\n",
       "      <td>0</td>\n",
       "    </tr>\n",
       "    <tr>\n",
       "      <th>4</th>\n",
       "      <td>5</td>\n",
       "      <td>15737888</td>\n",
       "      <td>Mitchell</td>\n",
       "      <td>850</td>\n",
       "      <td>Spain</td>\n",
       "      <td>Female</td>\n",
       "      <td>43</td>\n",
       "      <td>2</td>\n",
       "      <td>125510.82</td>\n",
       "      <td>1</td>\n",
       "      <td>1</td>\n",
       "      <td>1</td>\n",
       "      <td>79084.10</td>\n",
       "      <td>0</td>\n",
       "    </tr>\n",
       "  </tbody>\n",
       "</table>\n",
       "</div>"
      ],
      "text/plain": [
       "   RowNumber  CustomerId   Surname  CreditScore Geography  Gender  Age  \\\n",
       "0          1    15634602  Hargrave          619    France  Female   42   \n",
       "1          2    15647311      Hill          608     Spain  Female   41   \n",
       "2          3    15619304      Onio          502    France  Female   42   \n",
       "3          4    15701354      Boni          699    France  Female   39   \n",
       "4          5    15737888  Mitchell          850     Spain  Female   43   \n",
       "\n",
       "   Tenure    Balance  NumOfProducts  HasCrCard  IsActiveMember  \\\n",
       "0       2       0.00              1          1               1   \n",
       "1       1   83807.86              1          0               1   \n",
       "2       8  159660.80              3          1               0   \n",
       "3       1       0.00              2          0               0   \n",
       "4       2  125510.82              1          1               1   \n",
       "\n",
       "   EstimatedSalary  Exited  \n",
       "0        101348.88       1  \n",
       "1        112542.58       0  \n",
       "2        113931.57       1  \n",
       "3         93826.63       0  \n",
       "4         79084.10       0  "
      ]
     },
     "execution_count": 213,
     "metadata": {},
     "output_type": "execute_result"
    }
   ],
   "source": [
    "df.head()"
   ]
  },
  {
   "cell_type": "code",
   "execution_count": 214,
   "metadata": {
    "execution": {
     "iopub.execute_input": "2025-08-13T08:16:02.971598Z",
     "iopub.status.busy": "2025-08-13T08:16:02.971120Z",
     "iopub.status.idle": "2025-08-13T08:16:02.997844Z",
     "shell.execute_reply": "2025-08-13T08:16:02.996736Z",
     "shell.execute_reply.started": "2025-08-13T08:16:02.971571Z"
    },
    "trusted": true
   },
   "outputs": [
    {
     "name": "stdout",
     "output_type": "stream",
     "text": [
      "<class 'pandas.core.frame.DataFrame'>\n",
      "RangeIndex: 10000 entries, 0 to 9999\n",
      "Data columns (total 14 columns):\n",
      " #   Column           Non-Null Count  Dtype  \n",
      "---  ------           --------------  -----  \n",
      " 0   RowNumber        10000 non-null  int64  \n",
      " 1   CustomerId       10000 non-null  int64  \n",
      " 2   Surname          10000 non-null  object \n",
      " 3   CreditScore      10000 non-null  int64  \n",
      " 4   Geography        10000 non-null  object \n",
      " 5   Gender           10000 non-null  object \n",
      " 6   Age              10000 non-null  int64  \n",
      " 7   Tenure           10000 non-null  int64  \n",
      " 8   Balance          10000 non-null  float64\n",
      " 9   NumOfProducts    10000 non-null  int64  \n",
      " 10  HasCrCard        10000 non-null  int64  \n",
      " 11  IsActiveMember   10000 non-null  int64  \n",
      " 12  EstimatedSalary  10000 non-null  float64\n",
      " 13  Exited           10000 non-null  int64  \n",
      "dtypes: float64(2), int64(9), object(3)\n",
      "memory usage: 1.1+ MB\n"
     ]
    }
   ],
   "source": [
    "df.info()"
   ]
  },
  {
   "cell_type": "code",
   "execution_count": 215,
   "metadata": {
    "execution": {
     "iopub.execute_input": "2025-08-13T08:16:02.999330Z",
     "iopub.status.busy": "2025-08-13T08:16:02.998999Z",
     "iopub.status.idle": "2025-08-13T08:16:03.021385Z",
     "shell.execute_reply": "2025-08-13T08:16:03.020124Z",
     "shell.execute_reply.started": "2025-08-13T08:16:02.999299Z"
    },
    "trusted": true
   },
   "outputs": [
    {
     "data": {
      "text/plain": [
       "0"
      ]
     },
     "execution_count": 215,
     "metadata": {},
     "output_type": "execute_result"
    }
   ],
   "source": [
    "df.duplicated().sum()"
   ]
  },
  {
   "cell_type": "code",
   "execution_count": 216,
   "metadata": {
    "execution": {
     "iopub.execute_input": "2025-08-13T08:16:03.023380Z",
     "iopub.status.busy": "2025-08-13T08:16:03.022664Z",
     "iopub.status.idle": "2025-08-13T08:16:03.031104Z",
     "shell.execute_reply": "2025-08-13T08:16:03.030079Z",
     "shell.execute_reply.started": "2025-08-13T08:16:03.023345Z"
    },
    "trusted": true
   },
   "outputs": [
    {
     "data": {
      "text/plain": [
       "Exited\n",
       "0    7963\n",
       "1    2037\n",
       "Name: count, dtype: int64"
      ]
     },
     "execution_count": 216,
     "metadata": {},
     "output_type": "execute_result"
    }
   ],
   "source": [
    "df['Exited'].value_counts()"
   ]
  },
  {
   "cell_type": "code",
   "execution_count": 217,
   "metadata": {
    "execution": {
     "iopub.execute_input": "2025-08-13T08:16:03.032483Z",
     "iopub.status.busy": "2025-08-13T08:16:03.032102Z",
     "iopub.status.idle": "2025-08-13T08:16:03.052045Z",
     "shell.execute_reply": "2025-08-13T08:16:03.051071Z",
     "shell.execute_reply.started": "2025-08-13T08:16:03.032460Z"
    },
    "trusted": true
   },
   "outputs": [
    {
     "data": {
      "text/plain": [
       "Geography\n",
       "France     5014\n",
       "Germany    2509\n",
       "Spain      2477\n",
       "Name: count, dtype: int64"
      ]
     },
     "execution_count": 217,
     "metadata": {},
     "output_type": "execute_result"
    }
   ],
   "source": [
    "df['Geography'].value_counts()"
   ]
  },
  {
   "cell_type": "code",
   "execution_count": 218,
   "metadata": {
    "execution": {
     "iopub.execute_input": "2025-08-13T08:16:03.053446Z",
     "iopub.status.busy": "2025-08-13T08:16:03.053018Z",
     "iopub.status.idle": "2025-08-13T08:16:03.076269Z",
     "shell.execute_reply": "2025-08-13T08:16:03.075233Z",
     "shell.execute_reply.started": "2025-08-13T08:16:03.053422Z"
    },
    "trusted": true
   },
   "outputs": [
    {
     "data": {
      "text/plain": [
       "Gender\n",
       "Male      5457\n",
       "Female    4543\n",
       "Name: count, dtype: int64"
      ]
     },
     "execution_count": 218,
     "metadata": {},
     "output_type": "execute_result"
    }
   ],
   "source": [
    "df['Gender'].value_counts()"
   ]
  },
  {
   "cell_type": "code",
   "execution_count": 219,
   "metadata": {
    "execution": {
     "iopub.execute_input": "2025-08-13T08:16:03.077416Z",
     "iopub.status.busy": "2025-08-13T08:16:03.077148Z",
     "iopub.status.idle": "2025-08-13T08:16:03.097931Z",
     "shell.execute_reply": "2025-08-13T08:16:03.096943Z",
     "shell.execute_reply.started": "2025-08-13T08:16:03.077396Z"
    },
    "trusted": true
   },
   "outputs": [],
   "source": [
    "df.drop(columns=['RowNumber','Surname','CustomerId'],inplace=True)"
   ]
  },
  {
   "cell_type": "code",
   "execution_count": 220,
   "metadata": {
    "execution": {
     "iopub.execute_input": "2025-08-13T08:16:03.099343Z",
     "iopub.status.busy": "2025-08-13T08:16:03.098990Z",
     "iopub.status.idle": "2025-08-13T08:16:03.125966Z",
     "shell.execute_reply": "2025-08-13T08:16:03.124976Z",
     "shell.execute_reply.started": "2025-08-13T08:16:03.099314Z"
    },
    "trusted": true
   },
   "outputs": [
    {
     "data": {
      "text/html": [
       "<div>\n",
       "<style scoped>\n",
       "    .dataframe tbody tr th:only-of-type {\n",
       "        vertical-align: middle;\n",
       "    }\n",
       "\n",
       "    .dataframe tbody tr th {\n",
       "        vertical-align: top;\n",
       "    }\n",
       "\n",
       "    .dataframe thead th {\n",
       "        text-align: right;\n",
       "    }\n",
       "</style>\n",
       "<table border=\"1\" class=\"dataframe\">\n",
       "  <thead>\n",
       "    <tr style=\"text-align: right;\">\n",
       "      <th></th>\n",
       "      <th>CreditScore</th>\n",
       "      <th>Geography</th>\n",
       "      <th>Gender</th>\n",
       "      <th>Age</th>\n",
       "      <th>Tenure</th>\n",
       "      <th>Balance</th>\n",
       "      <th>NumOfProducts</th>\n",
       "      <th>HasCrCard</th>\n",
       "      <th>IsActiveMember</th>\n",
       "      <th>EstimatedSalary</th>\n",
       "      <th>Exited</th>\n",
       "    </tr>\n",
       "  </thead>\n",
       "  <tbody>\n",
       "    <tr>\n",
       "      <th>0</th>\n",
       "      <td>619</td>\n",
       "      <td>France</td>\n",
       "      <td>Female</td>\n",
       "      <td>42</td>\n",
       "      <td>2</td>\n",
       "      <td>0.00</td>\n",
       "      <td>1</td>\n",
       "      <td>1</td>\n",
       "      <td>1</td>\n",
       "      <td>101348.88</td>\n",
       "      <td>1</td>\n",
       "    </tr>\n",
       "    <tr>\n",
       "      <th>1</th>\n",
       "      <td>608</td>\n",
       "      <td>Spain</td>\n",
       "      <td>Female</td>\n",
       "      <td>41</td>\n",
       "      <td>1</td>\n",
       "      <td>83807.86</td>\n",
       "      <td>1</td>\n",
       "      <td>0</td>\n",
       "      <td>1</td>\n",
       "      <td>112542.58</td>\n",
       "      <td>0</td>\n",
       "    </tr>\n",
       "    <tr>\n",
       "      <th>2</th>\n",
       "      <td>502</td>\n",
       "      <td>France</td>\n",
       "      <td>Female</td>\n",
       "      <td>42</td>\n",
       "      <td>8</td>\n",
       "      <td>159660.80</td>\n",
       "      <td>3</td>\n",
       "      <td>1</td>\n",
       "      <td>0</td>\n",
       "      <td>113931.57</td>\n",
       "      <td>1</td>\n",
       "    </tr>\n",
       "    <tr>\n",
       "      <th>3</th>\n",
       "      <td>699</td>\n",
       "      <td>France</td>\n",
       "      <td>Female</td>\n",
       "      <td>39</td>\n",
       "      <td>1</td>\n",
       "      <td>0.00</td>\n",
       "      <td>2</td>\n",
       "      <td>0</td>\n",
       "      <td>0</td>\n",
       "      <td>93826.63</td>\n",
       "      <td>0</td>\n",
       "    </tr>\n",
       "    <tr>\n",
       "      <th>4</th>\n",
       "      <td>850</td>\n",
       "      <td>Spain</td>\n",
       "      <td>Female</td>\n",
       "      <td>43</td>\n",
       "      <td>2</td>\n",
       "      <td>125510.82</td>\n",
       "      <td>1</td>\n",
       "      <td>1</td>\n",
       "      <td>1</td>\n",
       "      <td>79084.10</td>\n",
       "      <td>0</td>\n",
       "    </tr>\n",
       "  </tbody>\n",
       "</table>\n",
       "</div>"
      ],
      "text/plain": [
       "   CreditScore Geography  Gender  Age  Tenure    Balance  NumOfProducts  \\\n",
       "0          619    France  Female   42       2       0.00              1   \n",
       "1          608     Spain  Female   41       1   83807.86              1   \n",
       "2          502    France  Female   42       8  159660.80              3   \n",
       "3          699    France  Female   39       1       0.00              2   \n",
       "4          850     Spain  Female   43       2  125510.82              1   \n",
       "\n",
       "   HasCrCard  IsActiveMember  EstimatedSalary  Exited  \n",
       "0          1               1        101348.88       1  \n",
       "1          0               1        112542.58       0  \n",
       "2          1               0        113931.57       1  \n",
       "3          0               0         93826.63       0  \n",
       "4          1               1         79084.10       0  "
      ]
     },
     "execution_count": 220,
     "metadata": {},
     "output_type": "execute_result"
    }
   ],
   "source": [
    "df.head()"
   ]
  },
  {
   "cell_type": "code",
   "execution_count": 221,
   "metadata": {
    "execution": {
     "iopub.execute_input": "2025-08-13T08:16:03.130162Z",
     "iopub.status.busy": "2025-08-13T08:16:03.129786Z",
     "iopub.status.idle": "2025-08-13T08:16:03.151279Z",
     "shell.execute_reply": "2025-08-13T08:16:03.150354Z",
     "shell.execute_reply.started": "2025-08-13T08:16:03.130131Z"
    },
    "trusted": true
   },
   "outputs": [],
   "source": [
    "df=pd.get_dummies(df,columns=['Geography','Gender'],drop_first=True)"
   ]
  },
  {
   "cell_type": "code",
   "execution_count": 222,
   "metadata": {
    "execution": {
     "iopub.execute_input": "2025-08-13T08:16:03.152805Z",
     "iopub.status.busy": "2025-08-13T08:16:03.152543Z",
     "iopub.status.idle": "2025-08-13T08:16:03.169167Z",
     "shell.execute_reply": "2025-08-13T08:16:03.168341Z",
     "shell.execute_reply.started": "2025-08-13T08:16:03.152783Z"
    },
    "trusted": true
   },
   "outputs": [
    {
     "data": {
      "text/html": [
       "<div>\n",
       "<style scoped>\n",
       "    .dataframe tbody tr th:only-of-type {\n",
       "        vertical-align: middle;\n",
       "    }\n",
       "\n",
       "    .dataframe tbody tr th {\n",
       "        vertical-align: top;\n",
       "    }\n",
       "\n",
       "    .dataframe thead th {\n",
       "        text-align: right;\n",
       "    }\n",
       "</style>\n",
       "<table border=\"1\" class=\"dataframe\">\n",
       "  <thead>\n",
       "    <tr style=\"text-align: right;\">\n",
       "      <th></th>\n",
       "      <th>CreditScore</th>\n",
       "      <th>Age</th>\n",
       "      <th>Tenure</th>\n",
       "      <th>Balance</th>\n",
       "      <th>NumOfProducts</th>\n",
       "      <th>HasCrCard</th>\n",
       "      <th>IsActiveMember</th>\n",
       "      <th>EstimatedSalary</th>\n",
       "      <th>Exited</th>\n",
       "      <th>Geography_Germany</th>\n",
       "      <th>Geography_Spain</th>\n",
       "      <th>Gender_Male</th>\n",
       "    </tr>\n",
       "  </thead>\n",
       "  <tbody>\n",
       "    <tr>\n",
       "      <th>0</th>\n",
       "      <td>619</td>\n",
       "      <td>42</td>\n",
       "      <td>2</td>\n",
       "      <td>0.00</td>\n",
       "      <td>1</td>\n",
       "      <td>1</td>\n",
       "      <td>1</td>\n",
       "      <td>101348.88</td>\n",
       "      <td>1</td>\n",
       "      <td>False</td>\n",
       "      <td>False</td>\n",
       "      <td>False</td>\n",
       "    </tr>\n",
       "    <tr>\n",
       "      <th>1</th>\n",
       "      <td>608</td>\n",
       "      <td>41</td>\n",
       "      <td>1</td>\n",
       "      <td>83807.86</td>\n",
       "      <td>1</td>\n",
       "      <td>0</td>\n",
       "      <td>1</td>\n",
       "      <td>112542.58</td>\n",
       "      <td>0</td>\n",
       "      <td>False</td>\n",
       "      <td>True</td>\n",
       "      <td>False</td>\n",
       "    </tr>\n",
       "    <tr>\n",
       "      <th>2</th>\n",
       "      <td>502</td>\n",
       "      <td>42</td>\n",
       "      <td>8</td>\n",
       "      <td>159660.80</td>\n",
       "      <td>3</td>\n",
       "      <td>1</td>\n",
       "      <td>0</td>\n",
       "      <td>113931.57</td>\n",
       "      <td>1</td>\n",
       "      <td>False</td>\n",
       "      <td>False</td>\n",
       "      <td>False</td>\n",
       "    </tr>\n",
       "    <tr>\n",
       "      <th>3</th>\n",
       "      <td>699</td>\n",
       "      <td>39</td>\n",
       "      <td>1</td>\n",
       "      <td>0.00</td>\n",
       "      <td>2</td>\n",
       "      <td>0</td>\n",
       "      <td>0</td>\n",
       "      <td>93826.63</td>\n",
       "      <td>0</td>\n",
       "      <td>False</td>\n",
       "      <td>False</td>\n",
       "      <td>False</td>\n",
       "    </tr>\n",
       "    <tr>\n",
       "      <th>4</th>\n",
       "      <td>850</td>\n",
       "      <td>43</td>\n",
       "      <td>2</td>\n",
       "      <td>125510.82</td>\n",
       "      <td>1</td>\n",
       "      <td>1</td>\n",
       "      <td>1</td>\n",
       "      <td>79084.10</td>\n",
       "      <td>0</td>\n",
       "      <td>False</td>\n",
       "      <td>True</td>\n",
       "      <td>False</td>\n",
       "    </tr>\n",
       "    <tr>\n",
       "      <th>...</th>\n",
       "      <td>...</td>\n",
       "      <td>...</td>\n",
       "      <td>...</td>\n",
       "      <td>...</td>\n",
       "      <td>...</td>\n",
       "      <td>...</td>\n",
       "      <td>...</td>\n",
       "      <td>...</td>\n",
       "      <td>...</td>\n",
       "      <td>...</td>\n",
       "      <td>...</td>\n",
       "      <td>...</td>\n",
       "    </tr>\n",
       "    <tr>\n",
       "      <th>9995</th>\n",
       "      <td>771</td>\n",
       "      <td>39</td>\n",
       "      <td>5</td>\n",
       "      <td>0.00</td>\n",
       "      <td>2</td>\n",
       "      <td>1</td>\n",
       "      <td>0</td>\n",
       "      <td>96270.64</td>\n",
       "      <td>0</td>\n",
       "      <td>False</td>\n",
       "      <td>False</td>\n",
       "      <td>True</td>\n",
       "    </tr>\n",
       "    <tr>\n",
       "      <th>9996</th>\n",
       "      <td>516</td>\n",
       "      <td>35</td>\n",
       "      <td>10</td>\n",
       "      <td>57369.61</td>\n",
       "      <td>1</td>\n",
       "      <td>1</td>\n",
       "      <td>1</td>\n",
       "      <td>101699.77</td>\n",
       "      <td>0</td>\n",
       "      <td>False</td>\n",
       "      <td>False</td>\n",
       "      <td>True</td>\n",
       "    </tr>\n",
       "    <tr>\n",
       "      <th>9997</th>\n",
       "      <td>709</td>\n",
       "      <td>36</td>\n",
       "      <td>7</td>\n",
       "      <td>0.00</td>\n",
       "      <td>1</td>\n",
       "      <td>0</td>\n",
       "      <td>1</td>\n",
       "      <td>42085.58</td>\n",
       "      <td>1</td>\n",
       "      <td>False</td>\n",
       "      <td>False</td>\n",
       "      <td>False</td>\n",
       "    </tr>\n",
       "    <tr>\n",
       "      <th>9998</th>\n",
       "      <td>772</td>\n",
       "      <td>42</td>\n",
       "      <td>3</td>\n",
       "      <td>75075.31</td>\n",
       "      <td>2</td>\n",
       "      <td>1</td>\n",
       "      <td>0</td>\n",
       "      <td>92888.52</td>\n",
       "      <td>1</td>\n",
       "      <td>True</td>\n",
       "      <td>False</td>\n",
       "      <td>True</td>\n",
       "    </tr>\n",
       "    <tr>\n",
       "      <th>9999</th>\n",
       "      <td>792</td>\n",
       "      <td>28</td>\n",
       "      <td>4</td>\n",
       "      <td>130142.79</td>\n",
       "      <td>1</td>\n",
       "      <td>1</td>\n",
       "      <td>0</td>\n",
       "      <td>38190.78</td>\n",
       "      <td>0</td>\n",
       "      <td>False</td>\n",
       "      <td>False</td>\n",
       "      <td>False</td>\n",
       "    </tr>\n",
       "  </tbody>\n",
       "</table>\n",
       "<p>10000 rows × 12 columns</p>\n",
       "</div>"
      ],
      "text/plain": [
       "      CreditScore  Age  Tenure    Balance  NumOfProducts  HasCrCard  \\\n",
       "0             619   42       2       0.00              1          1   \n",
       "1             608   41       1   83807.86              1          0   \n",
       "2             502   42       8  159660.80              3          1   \n",
       "3             699   39       1       0.00              2          0   \n",
       "4             850   43       2  125510.82              1          1   \n",
       "...           ...  ...     ...        ...            ...        ...   \n",
       "9995          771   39       5       0.00              2          1   \n",
       "9996          516   35      10   57369.61              1          1   \n",
       "9997          709   36       7       0.00              1          0   \n",
       "9998          772   42       3   75075.31              2          1   \n",
       "9999          792   28       4  130142.79              1          1   \n",
       "\n",
       "      IsActiveMember  EstimatedSalary  Exited  Geography_Germany  \\\n",
       "0                  1        101348.88       1              False   \n",
       "1                  1        112542.58       0              False   \n",
       "2                  0        113931.57       1              False   \n",
       "3                  0         93826.63       0              False   \n",
       "4                  1         79084.10       0              False   \n",
       "...              ...              ...     ...                ...   \n",
       "9995               0         96270.64       0              False   \n",
       "9996               1        101699.77       0              False   \n",
       "9997               1         42085.58       1              False   \n",
       "9998               0         92888.52       1               True   \n",
       "9999               0         38190.78       0              False   \n",
       "\n",
       "      Geography_Spain  Gender_Male  \n",
       "0               False        False  \n",
       "1                True        False  \n",
       "2               False        False  \n",
       "3               False        False  \n",
       "4                True        False  \n",
       "...               ...          ...  \n",
       "9995            False         True  \n",
       "9996            False         True  \n",
       "9997            False        False  \n",
       "9998            False         True  \n",
       "9999            False        False  \n",
       "\n",
       "[10000 rows x 12 columns]"
      ]
     },
     "execution_count": 222,
     "metadata": {},
     "output_type": "execute_result"
    }
   ],
   "source": [
    "df"
   ]
  },
  {
   "cell_type": "code",
   "execution_count": 223,
   "metadata": {
    "execution": {
     "iopub.execute_input": "2025-08-13T08:16:03.170431Z",
     "iopub.status.busy": "2025-08-13T08:16:03.170096Z",
     "iopub.status.idle": "2025-08-13T08:16:03.187538Z",
     "shell.execute_reply": "2025-08-13T08:16:03.186543Z",
     "shell.execute_reply.started": "2025-08-13T08:16:03.170405Z"
    },
    "trusted": true
   },
   "outputs": [],
   "source": [
    "x=df.drop(columns=['Exited'])\n",
    "y=df['Exited']"
   ]
  },
  {
   "cell_type": "code",
   "execution_count": 224,
   "metadata": {
    "execution": {
     "iopub.execute_input": "2025-08-13T08:16:03.188996Z",
     "iopub.status.busy": "2025-08-13T08:16:03.188591Z",
     "iopub.status.idle": "2025-08-13T08:16:03.208629Z",
     "shell.execute_reply": "2025-08-13T08:16:03.207463Z",
     "shell.execute_reply.started": "2025-08-13T08:16:03.188966Z"
    },
    "trusted": true
   },
   "outputs": [],
   "source": [
    "from sklearn.model_selection import train_test_split \n",
    "x_train,x_test,y_train,y_test=train_test_split (x,y,test_size=0.2,random_state=1)"
   ]
  },
  {
   "cell_type": "code",
   "execution_count": 225,
   "metadata": {
    "execution": {
     "iopub.execute_input": "2025-08-13T08:16:03.210048Z",
     "iopub.status.busy": "2025-08-13T08:16:03.209710Z",
     "iopub.status.idle": "2025-08-13T08:16:03.226755Z",
     "shell.execute_reply": "2025-08-13T08:16:03.225749Z",
     "shell.execute_reply.started": "2025-08-13T08:16:03.210017Z"
    },
    "trusted": true
   },
   "outputs": [
    {
     "data": {
      "text/plain": [
       "(8000, 11)"
      ]
     },
     "execution_count": 225,
     "metadata": {},
     "output_type": "execute_result"
    }
   ],
   "source": [
    "x_train.shape"
   ]
  },
  {
   "cell_type": "code",
   "execution_count": 226,
   "metadata": {
    "execution": {
     "iopub.execute_input": "2025-08-13T08:16:03.228298Z",
     "iopub.status.busy": "2025-08-13T08:16:03.227928Z",
     "iopub.status.idle": "2025-08-13T08:16:03.244759Z",
     "shell.execute_reply": "2025-08-13T08:16:03.243632Z",
     "shell.execute_reply.started": "2025-08-13T08:16:03.228262Z"
    },
    "trusted": true
   },
   "outputs": [],
   "source": [
    "#Scaling on data\n",
    "from sklearn.preprocessing import StandardScaler"
   ]
  },
  {
   "cell_type": "code",
   "execution_count": 227,
   "metadata": {
    "execution": {
     "iopub.execute_input": "2025-08-13T08:16:03.246049Z",
     "iopub.status.busy": "2025-08-13T08:16:03.245716Z",
     "iopub.status.idle": "2025-08-13T08:16:03.264485Z",
     "shell.execute_reply": "2025-08-13T08:16:03.263538Z",
     "shell.execute_reply.started": "2025-08-13T08:16:03.246021Z"
    },
    "trusted": true
   },
   "outputs": [],
   "source": [
    "scaler=StandardScaler()"
   ]
  },
  {
   "cell_type": "code",
   "execution_count": 228,
   "metadata": {
    "execution": {
     "iopub.execute_input": "2025-08-13T08:16:03.265862Z",
     "iopub.status.busy": "2025-08-13T08:16:03.265548Z",
     "iopub.status.idle": "2025-08-13T08:16:03.294442Z",
     "shell.execute_reply": "2025-08-13T08:16:03.293151Z",
     "shell.execute_reply.started": "2025-08-13T08:16:03.265838Z"
    },
    "trusted": true
   },
   "outputs": [],
   "source": [
    "x_train_scaled=scaler.fit_transform(x_train)\n",
    "x_test_scaled=scaler.transform(x_test)"
   ]
  },
  {
   "cell_type": "code",
   "execution_count": 229,
   "metadata": {
    "execution": {
     "iopub.execute_input": "2025-08-13T08:16:03.295925Z",
     "iopub.status.busy": "2025-08-13T08:16:03.295587Z",
     "iopub.status.idle": "2025-08-13T08:16:03.302796Z",
     "shell.execute_reply": "2025-08-13T08:16:03.301837Z",
     "shell.execute_reply.started": "2025-08-13T08:16:03.295901Z"
    },
    "trusted": true
   },
   "outputs": [
    {
     "data": {
      "text/plain": [
       "array([[-1.03768121,  0.77498705, -1.0482813 , ..., -0.58312392,\n",
       "        -0.57273139,  0.91509065],\n",
       "       [ 0.30708683, -0.46686456, -0.70174202, ..., -0.58312392,\n",
       "        -0.57273139,  0.91509065],\n",
       "       [-1.23422423,  0.29735181, -1.0482813 , ..., -0.58312392,\n",
       "        -0.57273139, -1.09278791],\n",
       "       ...,\n",
       "       [-0.86182692, -0.46686456,  1.72403288, ..., -0.58312392,\n",
       "         1.74601919,  0.91509065],\n",
       "       [-0.30323097, -0.84897275, -1.0482813 , ...,  1.71490137,\n",
       "        -0.57273139, -1.09278791],\n",
       "       [ 0.04847759,  1.25262228,  1.3774936 , ...,  1.71490137,\n",
       "        -0.57273139,  0.91509065]])"
      ]
     },
     "execution_count": 229,
     "metadata": {},
     "output_type": "execute_result"
    }
   ],
   "source": [
    " x_test_scaled"
   ]
  },
  {
   "cell_type": "code",
   "execution_count": 230,
   "metadata": {
    "execution": {
     "iopub.execute_input": "2025-08-13T08:16:03.304815Z",
     "iopub.status.busy": "2025-08-13T08:16:03.303851Z",
     "iopub.status.idle": "2025-08-13T08:16:03.322165Z",
     "shell.execute_reply": "2025-08-13T08:16:03.320927Z",
     "shell.execute_reply.started": "2025-08-13T08:16:03.304791Z"
    },
    "trusted": true
   },
   "outputs": [],
   "source": [
    "import tensorflow\n",
    "from tensorflow import keras\n",
    "from tensorflow.keras import Sequential\n",
    "from tensorflow.keras.layers import Dense"
   ]
  },
  {
   "cell_type": "code",
   "execution_count": 231,
   "metadata": {
    "execution": {
     "iopub.execute_input": "2025-08-13T08:16:03.324681Z",
     "iopub.status.busy": "2025-08-13T08:16:03.324270Z",
     "iopub.status.idle": "2025-08-13T08:16:03.340934Z",
     "shell.execute_reply": "2025-08-13T08:16:03.340119Z",
     "shell.execute_reply.started": "2025-08-13T08:16:03.324647Z"
    },
    "trusted": true
   },
   "outputs": [],
   "source": [
    "model=Sequential()"
   ]
  },
  {
   "cell_type": "code",
   "execution_count": 232,
   "metadata": {
    "execution": {
     "iopub.execute_input": "2025-08-13T08:16:03.343092Z",
     "iopub.status.busy": "2025-08-13T08:16:03.342163Z",
     "iopub.status.idle": "2025-08-13T08:16:03.393317Z",
     "shell.execute_reply": "2025-08-13T08:16:03.392202Z",
     "shell.execute_reply.started": "2025-08-13T08:16:03.343058Z"
    },
    "trusted": true
   },
   "outputs": [
    {
     "name": "stderr",
     "output_type": "stream",
     "text": [
      "/usr/local/lib/python3.11/dist-packages/keras/src/layers/core/dense.py:87: UserWarning: Do not pass an `input_shape`/`input_dim` argument to a layer. When using Sequential models, prefer using an `Input(shape)` object as the first layer in the model instead.\n",
      "  super().__init__(activity_regularizer=activity_regularizer, **kwargs)\n"
     ]
    }
   ],
   "source": [
    "#create Layesrs\n",
    "model.add(Dense(11,activation='relu',input_dim=11))\n",
    "model.add(Dense(11,activation='relu'))\n",
    "model.add(Dense(1,activation='sigmoid'))"
   ]
  },
  {
   "cell_type": "code",
   "execution_count": 233,
   "metadata": {
    "execution": {
     "iopub.execute_input": "2025-08-13T08:16:03.394884Z",
     "iopub.status.busy": "2025-08-13T08:16:03.394595Z",
     "iopub.status.idle": "2025-08-13T08:16:03.412296Z",
     "shell.execute_reply": "2025-08-13T08:16:03.411519Z",
     "shell.execute_reply.started": "2025-08-13T08:16:03.394860Z"
    },
    "trusted": true
   },
   "outputs": [
    {
     "data": {
      "text/html": [
       "<pre style=\"white-space:pre;overflow-x:auto;line-height:normal;font-family:Menlo,'DejaVu Sans Mono',consolas,'Courier New',monospace\"><span style=\"font-weight: bold\">Model: \"sequential_6\"</span>\n",
       "</pre>\n"
      ],
      "text/plain": [
       "\u001b[1mModel: \"sequential_6\"\u001b[0m\n"
      ]
     },
     "metadata": {},
     "output_type": "display_data"
    },
    {
     "data": {
      "text/html": [
       "<pre style=\"white-space:pre;overflow-x:auto;line-height:normal;font-family:Menlo,'DejaVu Sans Mono',consolas,'Courier New',monospace\">┏━━━━━━━━━━━━━━━━━━━━━━━━━━━━━━━━━┳━━━━━━━━━━━━━━━━━━━━━━━━┳━━━━━━━━━━━━━━━┓\n",
       "┃<span style=\"font-weight: bold\"> Layer (type)                    </span>┃<span style=\"font-weight: bold\"> Output Shape           </span>┃<span style=\"font-weight: bold\">       Param # </span>┃\n",
       "┡━━━━━━━━━━━━━━━━━━━━━━━━━━━━━━━━━╇━━━━━━━━━━━━━━━━━━━━━━━━╇━━━━━━━━━━━━━━━┩\n",
       "│ dense_18 (<span style=\"color: #0087ff; text-decoration-color: #0087ff\">Dense</span>)                │ (<span style=\"color: #00d7ff; text-decoration-color: #00d7ff\">None</span>, <span style=\"color: #00af00; text-decoration-color: #00af00\">11</span>)             │           <span style=\"color: #00af00; text-decoration-color: #00af00\">132</span> │\n",
       "├─────────────────────────────────┼────────────────────────┼───────────────┤\n",
       "│ dense_19 (<span style=\"color: #0087ff; text-decoration-color: #0087ff\">Dense</span>)                │ (<span style=\"color: #00d7ff; text-decoration-color: #00d7ff\">None</span>, <span style=\"color: #00af00; text-decoration-color: #00af00\">11</span>)             │           <span style=\"color: #00af00; text-decoration-color: #00af00\">132</span> │\n",
       "├─────────────────────────────────┼────────────────────────┼───────────────┤\n",
       "│ dense_20 (<span style=\"color: #0087ff; text-decoration-color: #0087ff\">Dense</span>)                │ (<span style=\"color: #00d7ff; text-decoration-color: #00d7ff\">None</span>, <span style=\"color: #00af00; text-decoration-color: #00af00\">1</span>)              │            <span style=\"color: #00af00; text-decoration-color: #00af00\">12</span> │\n",
       "└─────────────────────────────────┴────────────────────────┴───────────────┘\n",
       "</pre>\n"
      ],
      "text/plain": [
       "┏━━━━━━━━━━━━━━━━━━━━━━━━━━━━━━━━━┳━━━━━━━━━━━━━━━━━━━━━━━━┳━━━━━━━━━━━━━━━┓\n",
       "┃\u001b[1m \u001b[0m\u001b[1mLayer (type)                   \u001b[0m\u001b[1m \u001b[0m┃\u001b[1m \u001b[0m\u001b[1mOutput Shape          \u001b[0m\u001b[1m \u001b[0m┃\u001b[1m \u001b[0m\u001b[1m      Param #\u001b[0m\u001b[1m \u001b[0m┃\n",
       "┡━━━━━━━━━━━━━━━━━━━━━━━━━━━━━━━━━╇━━━━━━━━━━━━━━━━━━━━━━━━╇━━━━━━━━━━━━━━━┩\n",
       "│ dense_18 (\u001b[38;5;33mDense\u001b[0m)                │ (\u001b[38;5;45mNone\u001b[0m, \u001b[38;5;34m11\u001b[0m)             │           \u001b[38;5;34m132\u001b[0m │\n",
       "├─────────────────────────────────┼────────────────────────┼───────────────┤\n",
       "│ dense_19 (\u001b[38;5;33mDense\u001b[0m)                │ (\u001b[38;5;45mNone\u001b[0m, \u001b[38;5;34m11\u001b[0m)             │           \u001b[38;5;34m132\u001b[0m │\n",
       "├─────────────────────────────────┼────────────────────────┼───────────────┤\n",
       "│ dense_20 (\u001b[38;5;33mDense\u001b[0m)                │ (\u001b[38;5;45mNone\u001b[0m, \u001b[38;5;34m1\u001b[0m)              │            \u001b[38;5;34m12\u001b[0m │\n",
       "└─────────────────────────────────┴────────────────────────┴───────────────┘\n"
      ]
     },
     "metadata": {},
     "output_type": "display_data"
    },
    {
     "data": {
      "text/html": [
       "<pre style=\"white-space:pre;overflow-x:auto;line-height:normal;font-family:Menlo,'DejaVu Sans Mono',consolas,'Courier New',monospace\"><span style=\"font-weight: bold\"> Total params: </span><span style=\"color: #00af00; text-decoration-color: #00af00\">276</span> (1.08 KB)\n",
       "</pre>\n"
      ],
      "text/plain": [
       "\u001b[1m Total params: \u001b[0m\u001b[38;5;34m276\u001b[0m (1.08 KB)\n"
      ]
     },
     "metadata": {},
     "output_type": "display_data"
    },
    {
     "data": {
      "text/html": [
       "<pre style=\"white-space:pre;overflow-x:auto;line-height:normal;font-family:Menlo,'DejaVu Sans Mono',consolas,'Courier New',monospace\"><span style=\"font-weight: bold\"> Trainable params: </span><span style=\"color: #00af00; text-decoration-color: #00af00\">276</span> (1.08 KB)\n",
       "</pre>\n"
      ],
      "text/plain": [
       "\u001b[1m Trainable params: \u001b[0m\u001b[38;5;34m276\u001b[0m (1.08 KB)\n"
      ]
     },
     "metadata": {},
     "output_type": "display_data"
    },
    {
     "data": {
      "text/html": [
       "<pre style=\"white-space:pre;overflow-x:auto;line-height:normal;font-family:Menlo,'DejaVu Sans Mono',consolas,'Courier New',monospace\"><span style=\"font-weight: bold\"> Non-trainable params: </span><span style=\"color: #00af00; text-decoration-color: #00af00\">0</span> (0.00 B)\n",
       "</pre>\n"
      ],
      "text/plain": [
       "\u001b[1m Non-trainable params: \u001b[0m\u001b[38;5;34m0\u001b[0m (0.00 B)\n"
      ]
     },
     "metadata": {},
     "output_type": "display_data"
    }
   ],
   "source": [
    "model.summary()"
   ]
  },
  {
   "cell_type": "code",
   "execution_count": 234,
   "metadata": {
    "execution": {
     "iopub.execute_input": "2025-08-13T08:16:03.414046Z",
     "iopub.status.busy": "2025-08-13T08:16:03.413130Z",
     "iopub.status.idle": "2025-08-13T08:16:03.424471Z",
     "shell.execute_reply": "2025-08-13T08:16:03.423513Z",
     "shell.execute_reply.started": "2025-08-13T08:16:03.414011Z"
    },
    "trusted": true
   },
   "outputs": [],
   "source": [
    "#Compile the model\n",
    "model.compile(loss='binary_crossentropy',optimizer='Adam',metrics=['accuracy'])"
   ]
  },
  {
   "cell_type": "code",
   "execution_count": 241,
   "metadata": {
    "_kg_hide-input": true,
    "execution": {
     "iopub.execute_input": "2025-08-13T08:18:42.927552Z",
     "iopub.status.busy": "2025-08-13T08:18:42.927186Z",
     "iopub.status.idle": "2025-08-13T08:19:37.952301Z",
     "shell.execute_reply": "2025-08-13T08:19:37.951446Z",
     "shell.execute_reply.started": "2025-08-13T08:18:42.927528Z"
    },
    "trusted": true
   },
   "outputs": [
    {
     "name": "stdout",
     "output_type": "stream",
     "text": [
      "Epoch 1/100\n",
      "\u001b[1m200/200\u001b[0m \u001b[32m━━━━━━━━━━━━━━━━━━━━\u001b[0m\u001b[37m\u001b[0m \u001b[1m1s\u001b[0m 3ms/step - accuracy: 0.8686 - loss: 0.3161 - val_accuracy: 0.8569 - val_loss: 0.3388\n",
      "Epoch 2/100\n",
      "\u001b[1m200/200\u001b[0m \u001b[32m━━━━━━━━━━━━━━━━━━━━\u001b[0m\u001b[37m\u001b[0m \u001b[1m1s\u001b[0m 3ms/step - accuracy: 0.8607 - loss: 0.3198 - val_accuracy: 0.8587 - val_loss: 0.3391\n",
      "Epoch 3/100\n",
      "\u001b[1m200/200\u001b[0m \u001b[32m━━━━━━━━━━━━━━━━━━━━\u001b[0m\u001b[37m\u001b[0m \u001b[1m1s\u001b[0m 2ms/step - accuracy: 0.8697 - loss: 0.3252 - val_accuracy: 0.8531 - val_loss: 0.3424\n",
      "Epoch 4/100\n",
      "\u001b[1m200/200\u001b[0m \u001b[32m━━━━━━━━━━━━━━━━━━━━\u001b[0m\u001b[37m\u001b[0m \u001b[1m1s\u001b[0m 3ms/step - accuracy: 0.8709 - loss: 0.3163 - val_accuracy: 0.8544 - val_loss: 0.3420\n",
      "Epoch 5/100\n",
      "\u001b[1m200/200\u001b[0m \u001b[32m━━━━━━━━━━━━━━━━━━━━\u001b[0m\u001b[37m\u001b[0m \u001b[1m1s\u001b[0m 3ms/step - accuracy: 0.8697 - loss: 0.3203 - val_accuracy: 0.8587 - val_loss: 0.3406\n",
      "Epoch 6/100\n",
      "\u001b[1m200/200\u001b[0m \u001b[32m━━━━━━━━━━━━━━━━━━━━\u001b[0m\u001b[37m\u001b[0m \u001b[1m1s\u001b[0m 3ms/step - accuracy: 0.8685 - loss: 0.3190 - val_accuracy: 0.8581 - val_loss: 0.3397\n",
      "Epoch 7/100\n",
      "\u001b[1m200/200\u001b[0m \u001b[32m━━━━━━━━━━━━━━━━━━━━\u001b[0m\u001b[37m\u001b[0m \u001b[1m1s\u001b[0m 3ms/step - accuracy: 0.8644 - loss: 0.3215 - val_accuracy: 0.8537 - val_loss: 0.3418\n",
      "Epoch 8/100\n",
      "\u001b[1m200/200\u001b[0m \u001b[32m━━━━━━━━━━━━━━━━━━━━\u001b[0m\u001b[37m\u001b[0m \u001b[1m1s\u001b[0m 3ms/step - accuracy: 0.8698 - loss: 0.3207 - val_accuracy: 0.8594 - val_loss: 0.3397\n",
      "Epoch 9/100\n",
      "\u001b[1m200/200\u001b[0m \u001b[32m━━━━━━━━━━━━━━━━━━━━\u001b[0m\u001b[37m\u001b[0m \u001b[1m1s\u001b[0m 2ms/step - accuracy: 0.8745 - loss: 0.3145 - val_accuracy: 0.8562 - val_loss: 0.3404\n",
      "Epoch 10/100\n",
      "\u001b[1m200/200\u001b[0m \u001b[32m━━━━━━━━━━━━━━━━━━━━\u001b[0m\u001b[37m\u001b[0m \u001b[1m1s\u001b[0m 3ms/step - accuracy: 0.8733 - loss: 0.3129 - val_accuracy: 0.8594 - val_loss: 0.3415\n",
      "Epoch 11/100\n",
      "\u001b[1m200/200\u001b[0m \u001b[32m━━━━━━━━━━━━━━━━━━━━\u001b[0m\u001b[37m\u001b[0m \u001b[1m1s\u001b[0m 3ms/step - accuracy: 0.8742 - loss: 0.3134 - val_accuracy: 0.8575 - val_loss: 0.3402\n",
      "Epoch 12/100\n",
      "\u001b[1m200/200\u001b[0m \u001b[32m━━━━━━━━━━━━━━━━━━━━\u001b[0m\u001b[37m\u001b[0m \u001b[1m1s\u001b[0m 3ms/step - accuracy: 0.8707 - loss: 0.3071 - val_accuracy: 0.8625 - val_loss: 0.3390\n",
      "Epoch 13/100\n",
      "\u001b[1m200/200\u001b[0m \u001b[32m━━━━━━━━━━━━━━━━━━━━\u001b[0m\u001b[37m\u001b[0m \u001b[1m1s\u001b[0m 3ms/step - accuracy: 0.8747 - loss: 0.3050 - val_accuracy: 0.8562 - val_loss: 0.3404\n",
      "Epoch 14/100\n",
      "\u001b[1m200/200\u001b[0m \u001b[32m━━━━━━━━━━━━━━━━━━━━\u001b[0m\u001b[37m\u001b[0m \u001b[1m1s\u001b[0m 2ms/step - accuracy: 0.8692 - loss: 0.3152 - val_accuracy: 0.8569 - val_loss: 0.3428\n",
      "Epoch 15/100\n",
      "\u001b[1m200/200\u001b[0m \u001b[32m━━━━━━━━━━━━━━━━━━━━\u001b[0m\u001b[37m\u001b[0m \u001b[1m1s\u001b[0m 3ms/step - accuracy: 0.8680 - loss: 0.3181 - val_accuracy: 0.8575 - val_loss: 0.3416\n",
      "Epoch 16/100\n",
      "\u001b[1m200/200\u001b[0m \u001b[32m━━━━━━━━━━━━━━━━━━━━\u001b[0m\u001b[37m\u001b[0m \u001b[1m1s\u001b[0m 2ms/step - accuracy: 0.8715 - loss: 0.3101 - val_accuracy: 0.8556 - val_loss: 0.3416\n",
      "Epoch 17/100\n",
      "\u001b[1m200/200\u001b[0m \u001b[32m━━━━━━━━━━━━━━━━━━━━\u001b[0m\u001b[37m\u001b[0m \u001b[1m1s\u001b[0m 2ms/step - accuracy: 0.8773 - loss: 0.3016 - val_accuracy: 0.8619 - val_loss: 0.3390\n",
      "Epoch 18/100\n",
      "\u001b[1m200/200\u001b[0m \u001b[32m━━━━━━━━━━━━━━━━━━━━\u001b[0m\u001b[37m\u001b[0m \u001b[1m1s\u001b[0m 3ms/step - accuracy: 0.8714 - loss: 0.3077 - val_accuracy: 0.8562 - val_loss: 0.3407\n",
      "Epoch 19/100\n",
      "\u001b[1m200/200\u001b[0m \u001b[32m━━━━━━━━━━━━━━━━━━━━\u001b[0m\u001b[37m\u001b[0m \u001b[1m1s\u001b[0m 3ms/step - accuracy: 0.8748 - loss: 0.3123 - val_accuracy: 0.8544 - val_loss: 0.3427\n",
      "Epoch 20/100\n",
      "\u001b[1m200/200\u001b[0m \u001b[32m━━━━━━━━━━━━━━━━━━━━\u001b[0m\u001b[37m\u001b[0m \u001b[1m1s\u001b[0m 3ms/step - accuracy: 0.8635 - loss: 0.3220 - val_accuracy: 0.8537 - val_loss: 0.3412\n",
      "Epoch 21/100\n",
      "\u001b[1m200/200\u001b[0m \u001b[32m━━━━━━━━━━━━━━━━━━━━\u001b[0m\u001b[37m\u001b[0m \u001b[1m1s\u001b[0m 3ms/step - accuracy: 0.8717 - loss: 0.3180 - val_accuracy: 0.8550 - val_loss: 0.3408\n",
      "Epoch 22/100\n",
      "\u001b[1m200/200\u001b[0m \u001b[32m━━━━━━━━━━━━━━━━━━━━\u001b[0m\u001b[37m\u001b[0m \u001b[1m1s\u001b[0m 3ms/step - accuracy: 0.8728 - loss: 0.3044 - val_accuracy: 0.8525 - val_loss: 0.3403\n",
      "Epoch 23/100\n",
      "\u001b[1m200/200\u001b[0m \u001b[32m━━━━━━━━━━━━━━━━━━━━\u001b[0m\u001b[37m\u001b[0m \u001b[1m1s\u001b[0m 3ms/step - accuracy: 0.8725 - loss: 0.3127 - val_accuracy: 0.8575 - val_loss: 0.3400\n",
      "Epoch 24/100\n",
      "\u001b[1m200/200\u001b[0m \u001b[32m━━━━━━━━━━━━━━━━━━━━\u001b[0m\u001b[37m\u001b[0m \u001b[1m1s\u001b[0m 3ms/step - accuracy: 0.8704 - loss: 0.3167 - val_accuracy: 0.8550 - val_loss: 0.3407\n",
      "Epoch 25/100\n",
      "\u001b[1m200/200\u001b[0m \u001b[32m━━━━━━━━━━━━━━━━━━━━\u001b[0m\u001b[37m\u001b[0m \u001b[1m1s\u001b[0m 3ms/step - accuracy: 0.8709 - loss: 0.3093 - val_accuracy: 0.8512 - val_loss: 0.3418\n",
      "Epoch 26/100\n",
      "\u001b[1m200/200\u001b[0m \u001b[32m━━━━━━━━━━━━━━━━━━━━\u001b[0m\u001b[37m\u001b[0m \u001b[1m1s\u001b[0m 3ms/step - accuracy: 0.8688 - loss: 0.3187 - val_accuracy: 0.8544 - val_loss: 0.3434\n",
      "Epoch 27/100\n",
      "\u001b[1m200/200\u001b[0m \u001b[32m━━━━━━━━━━━━━━━━━━━━\u001b[0m\u001b[37m\u001b[0m \u001b[1m1s\u001b[0m 3ms/step - accuracy: 0.8700 - loss: 0.3131 - val_accuracy: 0.8575 - val_loss: 0.3401\n",
      "Epoch 28/100\n",
      "\u001b[1m200/200\u001b[0m \u001b[32m━━━━━━━━━━━━━━━━━━━━\u001b[0m\u001b[37m\u001b[0m \u001b[1m1s\u001b[0m 3ms/step - accuracy: 0.8659 - loss: 0.3096 - val_accuracy: 0.8575 - val_loss: 0.3410\n",
      "Epoch 29/100\n",
      "\u001b[1m200/200\u001b[0m \u001b[32m━━━━━━━━━━━━━━━━━━━━\u001b[0m\u001b[37m\u001b[0m \u001b[1m1s\u001b[0m 3ms/step - accuracy: 0.8687 - loss: 0.3089 - val_accuracy: 0.8531 - val_loss: 0.3425\n",
      "Epoch 30/100\n",
      "\u001b[1m200/200\u001b[0m \u001b[32m━━━━━━━━━━━━━━━━━━━━\u001b[0m\u001b[37m\u001b[0m \u001b[1m1s\u001b[0m 3ms/step - accuracy: 0.8682 - loss: 0.3170 - val_accuracy: 0.8594 - val_loss: 0.3408\n",
      "Epoch 31/100\n",
      "\u001b[1m200/200\u001b[0m \u001b[32m━━━━━━━━━━━━━━━━━━━━\u001b[0m\u001b[37m\u001b[0m \u001b[1m1s\u001b[0m 3ms/step - accuracy: 0.8691 - loss: 0.3131 - val_accuracy: 0.8606 - val_loss: 0.3416\n",
      "Epoch 32/100\n",
      "\u001b[1m200/200\u001b[0m \u001b[32m━━━━━━━━━━━━━━━━━━━━\u001b[0m\u001b[37m\u001b[0m \u001b[1m1s\u001b[0m 3ms/step - accuracy: 0.8755 - loss: 0.3015 - val_accuracy: 0.8587 - val_loss: 0.3419\n",
      "Epoch 33/100\n",
      "\u001b[1m200/200\u001b[0m \u001b[32m━━━━━━━━━━━━━━━━━━━━\u001b[0m\u001b[37m\u001b[0m \u001b[1m1s\u001b[0m 3ms/step - accuracy: 0.8701 - loss: 0.3149 - val_accuracy: 0.8569 - val_loss: 0.3416\n",
      "Epoch 34/100\n",
      "\u001b[1m200/200\u001b[0m \u001b[32m━━━━━━━━━━━━━━━━━━━━\u001b[0m\u001b[37m\u001b[0m \u001b[1m1s\u001b[0m 3ms/step - accuracy: 0.8671 - loss: 0.3159 - val_accuracy: 0.8606 - val_loss: 0.3397\n",
      "Epoch 35/100\n",
      "\u001b[1m200/200\u001b[0m \u001b[32m━━━━━━━━━━━━━━━━━━━━\u001b[0m\u001b[37m\u001b[0m \u001b[1m1s\u001b[0m 3ms/step - accuracy: 0.8704 - loss: 0.3103 - val_accuracy: 0.8581 - val_loss: 0.3411\n",
      "Epoch 36/100\n",
      "\u001b[1m200/200\u001b[0m \u001b[32m━━━━━━━━━━━━━━━━━━━━\u001b[0m\u001b[37m\u001b[0m \u001b[1m1s\u001b[0m 3ms/step - accuracy: 0.8702 - loss: 0.3176 - val_accuracy: 0.8575 - val_loss: 0.3405\n",
      "Epoch 37/100\n",
      "\u001b[1m200/200\u001b[0m \u001b[32m━━━━━━━━━━━━━━━━━━━━\u001b[0m\u001b[37m\u001b[0m \u001b[1m1s\u001b[0m 3ms/step - accuracy: 0.8692 - loss: 0.3136 - val_accuracy: 0.8556 - val_loss: 0.3429\n",
      "Epoch 38/100\n",
      "\u001b[1m200/200\u001b[0m \u001b[32m━━━━━━━━━━━━━━━━━━━━\u001b[0m\u001b[37m\u001b[0m \u001b[1m1s\u001b[0m 3ms/step - accuracy: 0.8695 - loss: 0.3081 - val_accuracy: 0.8544 - val_loss: 0.3423\n",
      "Epoch 39/100\n",
      "\u001b[1m200/200\u001b[0m \u001b[32m━━━━━━━━━━━━━━━━━━━━\u001b[0m\u001b[37m\u001b[0m \u001b[1m1s\u001b[0m 3ms/step - accuracy: 0.8672 - loss: 0.3111 - val_accuracy: 0.8550 - val_loss: 0.3428\n",
      "Epoch 40/100\n",
      "\u001b[1m200/200\u001b[0m \u001b[32m━━━━━━━━━━━━━━━━━━━━\u001b[0m\u001b[37m\u001b[0m \u001b[1m1s\u001b[0m 3ms/step - accuracy: 0.8652 - loss: 0.3166 - val_accuracy: 0.8581 - val_loss: 0.3425\n",
      "Epoch 41/100\n",
      "\u001b[1m200/200\u001b[0m \u001b[32m━━━━━━━━━━━━━━━━━━━━\u001b[0m\u001b[37m\u001b[0m \u001b[1m1s\u001b[0m 3ms/step - accuracy: 0.8766 - loss: 0.3096 - val_accuracy: 0.8544 - val_loss: 0.3430\n",
      "Epoch 42/100\n",
      "\u001b[1m200/200\u001b[0m \u001b[32m━━━━━━━━━━━━━━━━━━━━\u001b[0m\u001b[37m\u001b[0m \u001b[1m1s\u001b[0m 3ms/step - accuracy: 0.8708 - loss: 0.3104 - val_accuracy: 0.8550 - val_loss: 0.3427\n",
      "Epoch 43/100\n",
      "\u001b[1m200/200\u001b[0m \u001b[32m━━━━━━━━━━━━━━━━━━━━\u001b[0m\u001b[37m\u001b[0m \u001b[1m1s\u001b[0m 3ms/step - accuracy: 0.8684 - loss: 0.3095 - val_accuracy: 0.8525 - val_loss: 0.3417\n",
      "Epoch 44/100\n",
      "\u001b[1m200/200\u001b[0m \u001b[32m━━━━━━━━━━━━━━━━━━━━\u001b[0m\u001b[37m\u001b[0m \u001b[1m1s\u001b[0m 3ms/step - accuracy: 0.8668 - loss: 0.3136 - val_accuracy: 0.8569 - val_loss: 0.3420\n",
      "Epoch 45/100\n",
      "\u001b[1m200/200\u001b[0m \u001b[32m━━━━━━━━━━━━━━━━━━━━\u001b[0m\u001b[37m\u001b[0m \u001b[1m1s\u001b[0m 3ms/step - accuracy: 0.8629 - loss: 0.3298 - val_accuracy: 0.8575 - val_loss: 0.3438\n",
      "Epoch 46/100\n",
      "\u001b[1m200/200\u001b[0m \u001b[32m━━━━━━━━━━━━━━━━━━━━\u001b[0m\u001b[37m\u001b[0m \u001b[1m1s\u001b[0m 3ms/step - accuracy: 0.8702 - loss: 0.3087 - val_accuracy: 0.8550 - val_loss: 0.3426\n",
      "Epoch 47/100\n",
      "\u001b[1m200/200\u001b[0m \u001b[32m━━━━━━━━━━━━━━━━━━━━\u001b[0m\u001b[37m\u001b[0m \u001b[1m1s\u001b[0m 3ms/step - accuracy: 0.8670 - loss: 0.3179 - val_accuracy: 0.8569 - val_loss: 0.3425\n",
      "Epoch 48/100\n",
      "\u001b[1m200/200\u001b[0m \u001b[32m━━━━━━━━━━━━━━━━━━━━\u001b[0m\u001b[37m\u001b[0m \u001b[1m1s\u001b[0m 3ms/step - accuracy: 0.8697 - loss: 0.3186 - val_accuracy: 0.8544 - val_loss: 0.3443\n",
      "Epoch 49/100\n",
      "\u001b[1m200/200\u001b[0m \u001b[32m━━━━━━━━━━━━━━━━━━━━\u001b[0m\u001b[37m\u001b[0m \u001b[1m1s\u001b[0m 3ms/step - accuracy: 0.8663 - loss: 0.3187 - val_accuracy: 0.8550 - val_loss: 0.3439\n",
      "Epoch 50/100\n",
      "\u001b[1m200/200\u001b[0m \u001b[32m━━━━━━━━━━━━━━━━━━━━\u001b[0m\u001b[37m\u001b[0m \u001b[1m1s\u001b[0m 3ms/step - accuracy: 0.8704 - loss: 0.3136 - val_accuracy: 0.8544 - val_loss: 0.3440\n",
      "Epoch 51/100\n",
      "\u001b[1m200/200\u001b[0m \u001b[32m━━━━━━━━━━━━━━━━━━━━\u001b[0m\u001b[37m\u001b[0m \u001b[1m1s\u001b[0m 3ms/step - accuracy: 0.8728 - loss: 0.3057 - val_accuracy: 0.8525 - val_loss: 0.3444\n",
      "Epoch 52/100\n",
      "\u001b[1m200/200\u001b[0m \u001b[32m━━━━━━━━━━━━━━━━━━━━\u001b[0m\u001b[37m\u001b[0m \u001b[1m1s\u001b[0m 3ms/step - accuracy: 0.8710 - loss: 0.3111 - val_accuracy: 0.8506 - val_loss: 0.3459\n",
      "Epoch 53/100\n",
      "\u001b[1m200/200\u001b[0m \u001b[32m━━━━━━━━━━━━━━━━━━━━\u001b[0m\u001b[37m\u001b[0m \u001b[1m1s\u001b[0m 3ms/step - accuracy: 0.8726 - loss: 0.3111 - val_accuracy: 0.8556 - val_loss: 0.3423\n",
      "Epoch 54/100\n",
      "\u001b[1m200/200\u001b[0m \u001b[32m━━━━━━━━━━━━━━━━━━━━\u001b[0m\u001b[37m\u001b[0m \u001b[1m1s\u001b[0m 3ms/step - accuracy: 0.8634 - loss: 0.3192 - val_accuracy: 0.8575 - val_loss: 0.3421\n",
      "Epoch 55/100\n",
      "\u001b[1m200/200\u001b[0m \u001b[32m━━━━━━━━━━━━━━━━━━━━\u001b[0m\u001b[37m\u001b[0m \u001b[1m1s\u001b[0m 3ms/step - accuracy: 0.8630 - loss: 0.3237 - val_accuracy: 0.8569 - val_loss: 0.3427\n",
      "Epoch 56/100\n",
      "\u001b[1m200/200\u001b[0m \u001b[32m━━━━━━━━━━━━━━━━━━━━\u001b[0m\u001b[37m\u001b[0m \u001b[1m1s\u001b[0m 2ms/step - accuracy: 0.8714 - loss: 0.3085 - val_accuracy: 0.8544 - val_loss: 0.3449\n",
      "Epoch 57/100\n",
      "\u001b[1m200/200\u001b[0m \u001b[32m━━━━━━━━━━━━━━━━━━━━\u001b[0m\u001b[37m\u001b[0m \u001b[1m1s\u001b[0m 3ms/step - accuracy: 0.8649 - loss: 0.3149 - val_accuracy: 0.8550 - val_loss: 0.3451\n",
      "Epoch 58/100\n",
      "\u001b[1m200/200\u001b[0m \u001b[32m━━━━━━━━━━━━━━━━━━━━\u001b[0m\u001b[37m\u001b[0m \u001b[1m1s\u001b[0m 3ms/step - accuracy: 0.8713 - loss: 0.3089 - val_accuracy: 0.8569 - val_loss: 0.3454\n",
      "Epoch 59/100\n",
      "\u001b[1m200/200\u001b[0m \u001b[32m━━━━━━━━━━━━━━━━━━━━\u001b[0m\u001b[37m\u001b[0m \u001b[1m1s\u001b[0m 3ms/step - accuracy: 0.8761 - loss: 0.3097 - val_accuracy: 0.8519 - val_loss: 0.3455\n",
      "Epoch 60/100\n",
      "\u001b[1m200/200\u001b[0m \u001b[32m━━━━━━━━━━━━━━━━━━━━\u001b[0m\u001b[37m\u001b[0m \u001b[1m1s\u001b[0m 3ms/step - accuracy: 0.8762 - loss: 0.3060 - val_accuracy: 0.8562 - val_loss: 0.3435\n",
      "Epoch 61/100\n",
      "\u001b[1m200/200\u001b[0m \u001b[32m━━━━━━━━━━━━━━━━━━━━\u001b[0m\u001b[37m\u001b[0m \u001b[1m1s\u001b[0m 3ms/step - accuracy: 0.8696 - loss: 0.3129 - val_accuracy: 0.8550 - val_loss: 0.3448\n",
      "Epoch 62/100\n",
      "\u001b[1m200/200\u001b[0m \u001b[32m━━━━━━━━━━━━━━━━━━━━\u001b[0m\u001b[37m\u001b[0m \u001b[1m1s\u001b[0m 3ms/step - accuracy: 0.8784 - loss: 0.3071 - val_accuracy: 0.8562 - val_loss: 0.3440\n",
      "Epoch 63/100\n",
      "\u001b[1m200/200\u001b[0m \u001b[32m━━━━━━━━━━━━━━━━━━━━\u001b[0m\u001b[37m\u001b[0m \u001b[1m1s\u001b[0m 3ms/step - accuracy: 0.8697 - loss: 0.3136 - val_accuracy: 0.8556 - val_loss: 0.3443\n",
      "Epoch 64/100\n",
      "\u001b[1m200/200\u001b[0m \u001b[32m━━━━━━━━━━━━━━━━━━━━\u001b[0m\u001b[37m\u001b[0m \u001b[1m1s\u001b[0m 3ms/step - accuracy: 0.8746 - loss: 0.3081 - val_accuracy: 0.8544 - val_loss: 0.3429\n",
      "Epoch 65/100\n",
      "\u001b[1m200/200\u001b[0m \u001b[32m━━━━━━━━━━━━━━━━━━━━\u001b[0m\u001b[37m\u001b[0m \u001b[1m1s\u001b[0m 3ms/step - accuracy: 0.8710 - loss: 0.3153 - val_accuracy: 0.8556 - val_loss: 0.3453\n",
      "Epoch 66/100\n",
      "\u001b[1m200/200\u001b[0m \u001b[32m━━━━━━━━━━━━━━━━━━━━\u001b[0m\u001b[37m\u001b[0m \u001b[1m1s\u001b[0m 3ms/step - accuracy: 0.8680 - loss: 0.3074 - val_accuracy: 0.8525 - val_loss: 0.3479\n",
      "Epoch 67/100\n",
      "\u001b[1m200/200\u001b[0m \u001b[32m━━━━━━━━━━━━━━━━━━━━\u001b[0m\u001b[37m\u001b[0m \u001b[1m1s\u001b[0m 3ms/step - accuracy: 0.8733 - loss: 0.3100 - val_accuracy: 0.8531 - val_loss: 0.3460\n",
      "Epoch 68/100\n",
      "\u001b[1m200/200\u001b[0m \u001b[32m━━━━━━━━━━━━━━━━━━━━\u001b[0m\u001b[37m\u001b[0m \u001b[1m1s\u001b[0m 3ms/step - accuracy: 0.8739 - loss: 0.3094 - val_accuracy: 0.8575 - val_loss: 0.3446\n",
      "Epoch 69/100\n",
      "\u001b[1m200/200\u001b[0m \u001b[32m━━━━━━━━━━━━━━━━━━━━\u001b[0m\u001b[37m\u001b[0m \u001b[1m1s\u001b[0m 3ms/step - accuracy: 0.8663 - loss: 0.3120 - val_accuracy: 0.8581 - val_loss: 0.3432\n",
      "Epoch 70/100\n",
      "\u001b[1m200/200\u001b[0m \u001b[32m━━━━━━━━━━━━━━━━━━━━\u001b[0m\u001b[37m\u001b[0m \u001b[1m1s\u001b[0m 3ms/step - accuracy: 0.8694 - loss: 0.3097 - val_accuracy: 0.8581 - val_loss: 0.3430\n",
      "Epoch 71/100\n",
      "\u001b[1m200/200\u001b[0m \u001b[32m━━━━━━━━━━━━━━━━━━━━\u001b[0m\u001b[37m\u001b[0m \u001b[1m1s\u001b[0m 3ms/step - accuracy: 0.8724 - loss: 0.3092 - val_accuracy: 0.8544 - val_loss: 0.3461\n",
      "Epoch 72/100\n",
      "\u001b[1m200/200\u001b[0m \u001b[32m━━━━━━━━━━━━━━━━━━━━\u001b[0m\u001b[37m\u001b[0m \u001b[1m1s\u001b[0m 3ms/step - accuracy: 0.8754 - loss: 0.3006 - val_accuracy: 0.8556 - val_loss: 0.3455\n",
      "Epoch 73/100\n",
      "\u001b[1m200/200\u001b[0m \u001b[32m━━━━━━━━━━━━━━━━━━━━\u001b[0m\u001b[37m\u001b[0m \u001b[1m1s\u001b[0m 3ms/step - accuracy: 0.8690 - loss: 0.3091 - val_accuracy: 0.8556 - val_loss: 0.3450\n",
      "Epoch 74/100\n",
      "\u001b[1m200/200\u001b[0m \u001b[32m━━━━━━━━━━━━━━━━━━━━\u001b[0m\u001b[37m\u001b[0m \u001b[1m1s\u001b[0m 3ms/step - accuracy: 0.8683 - loss: 0.3166 - val_accuracy: 0.8525 - val_loss: 0.3465\n",
      "Epoch 75/100\n",
      "\u001b[1m200/200\u001b[0m \u001b[32m━━━━━━━━━━━━━━━━━━━━\u001b[0m\u001b[37m\u001b[0m \u001b[1m1s\u001b[0m 3ms/step - accuracy: 0.8702 - loss: 0.3089 - val_accuracy: 0.8556 - val_loss: 0.3460\n",
      "Epoch 76/100\n",
      "\u001b[1m200/200\u001b[0m \u001b[32m━━━━━━━━━━━━━━━━━━━━\u001b[0m\u001b[37m\u001b[0m \u001b[1m1s\u001b[0m 3ms/step - accuracy: 0.8761 - loss: 0.3046 - val_accuracy: 0.8550 - val_loss: 0.3455\n",
      "Epoch 77/100\n",
      "\u001b[1m200/200\u001b[0m \u001b[32m━━━━━━━━━━━━━━━━━━━━\u001b[0m\u001b[37m\u001b[0m \u001b[1m1s\u001b[0m 3ms/step - accuracy: 0.8731 - loss: 0.3113 - val_accuracy: 0.8525 - val_loss: 0.3497\n",
      "Epoch 78/100\n",
      "\u001b[1m200/200\u001b[0m \u001b[32m━━━━━━━━━━━━━━━━━━━━\u001b[0m\u001b[37m\u001b[0m \u001b[1m1s\u001b[0m 3ms/step - accuracy: 0.8709 - loss: 0.3156 - val_accuracy: 0.8569 - val_loss: 0.3443\n",
      "Epoch 79/100\n",
      "\u001b[1m200/200\u001b[0m \u001b[32m━━━━━━━━━━━━━━━━━━━━\u001b[0m\u001b[37m\u001b[0m \u001b[1m1s\u001b[0m 3ms/step - accuracy: 0.8688 - loss: 0.3111 - val_accuracy: 0.8575 - val_loss: 0.3449\n",
      "Epoch 80/100\n",
      "\u001b[1m200/200\u001b[0m \u001b[32m━━━━━━━━━━━━━━━━━━━━\u001b[0m\u001b[37m\u001b[0m \u001b[1m1s\u001b[0m 3ms/step - accuracy: 0.8651 - loss: 0.3170 - val_accuracy: 0.8537 - val_loss: 0.3453\n",
      "Epoch 81/100\n",
      "\u001b[1m200/200\u001b[0m \u001b[32m━━━━━━━━━━━━━━━━━━━━\u001b[0m\u001b[37m\u001b[0m \u001b[1m1s\u001b[0m 3ms/step - accuracy: 0.8642 - loss: 0.3244 - val_accuracy: 0.8556 - val_loss: 0.3442\n",
      "Epoch 82/100\n",
      "\u001b[1m200/200\u001b[0m \u001b[32m━━━━━━━━━━━━━━━━━━━━\u001b[0m\u001b[37m\u001b[0m \u001b[1m1s\u001b[0m 3ms/step - accuracy: 0.8676 - loss: 0.3088 - val_accuracy: 0.8575 - val_loss: 0.3478\n",
      "Epoch 83/100\n",
      "\u001b[1m200/200\u001b[0m \u001b[32m━━━━━━━━━━━━━━━━━━━━\u001b[0m\u001b[37m\u001b[0m \u001b[1m1s\u001b[0m 3ms/step - accuracy: 0.8682 - loss: 0.3224 - val_accuracy: 0.8487 - val_loss: 0.3503\n",
      "Epoch 84/100\n",
      "\u001b[1m200/200\u001b[0m \u001b[32m━━━━━━━━━━━━━━━━━━━━\u001b[0m\u001b[37m\u001b[0m \u001b[1m1s\u001b[0m 3ms/step - accuracy: 0.8761 - loss: 0.3022 - val_accuracy: 0.8575 - val_loss: 0.3466\n",
      "Epoch 85/100\n",
      "\u001b[1m200/200\u001b[0m \u001b[32m━━━━━━━━━━━━━━━━━━━━\u001b[0m\u001b[37m\u001b[0m \u001b[1m1s\u001b[0m 3ms/step - accuracy: 0.8675 - loss: 0.3198 - val_accuracy: 0.8575 - val_loss: 0.3447\n",
      "Epoch 86/100\n",
      "\u001b[1m200/200\u001b[0m \u001b[32m━━━━━━━━━━━━━━━━━━━━\u001b[0m\u001b[37m\u001b[0m \u001b[1m1s\u001b[0m 3ms/step - accuracy: 0.8736 - loss: 0.3080 - val_accuracy: 0.8556 - val_loss: 0.3466\n",
      "Epoch 87/100\n",
      "\u001b[1m200/200\u001b[0m \u001b[32m━━━━━━━━━━━━━━━━━━━━\u001b[0m\u001b[37m\u001b[0m \u001b[1m1s\u001b[0m 3ms/step - accuracy: 0.8681 - loss: 0.3167 - val_accuracy: 0.8525 - val_loss: 0.3473\n",
      "Epoch 88/100\n",
      "\u001b[1m200/200\u001b[0m \u001b[32m━━━━━━━━━━━━━━━━━━━━\u001b[0m\u001b[37m\u001b[0m \u001b[1m1s\u001b[0m 3ms/step - accuracy: 0.8708 - loss: 0.3105 - val_accuracy: 0.8537 - val_loss: 0.3461\n",
      "Epoch 89/100\n",
      "\u001b[1m200/200\u001b[0m \u001b[32m━━━━━━━━━━━━━━━━━━━━\u001b[0m\u001b[37m\u001b[0m \u001b[1m1s\u001b[0m 2ms/step - accuracy: 0.8814 - loss: 0.2910 - val_accuracy: 0.8531 - val_loss: 0.3470\n",
      "Epoch 90/100\n",
      "\u001b[1m200/200\u001b[0m \u001b[32m━━━━━━━━━━━━━━━━━━━━\u001b[0m\u001b[37m\u001b[0m \u001b[1m1s\u001b[0m 3ms/step - accuracy: 0.8751 - loss: 0.3080 - val_accuracy: 0.8569 - val_loss: 0.3447\n",
      "Epoch 91/100\n",
      "\u001b[1m200/200\u001b[0m \u001b[32m━━━━━━━━━━━━━━━━━━━━\u001b[0m\u001b[37m\u001b[0m \u001b[1m1s\u001b[0m 3ms/step - accuracy: 0.8714 - loss: 0.3143 - val_accuracy: 0.8544 - val_loss: 0.3480\n",
      "Epoch 92/100\n",
      "\u001b[1m200/200\u001b[0m \u001b[32m━━━━━━━━━━━━━━━━━━━━\u001b[0m\u001b[37m\u001b[0m \u001b[1m1s\u001b[0m 3ms/step - accuracy: 0.8713 - loss: 0.3107 - val_accuracy: 0.8581 - val_loss: 0.3453\n",
      "Epoch 93/100\n",
      "\u001b[1m200/200\u001b[0m \u001b[32m━━━━━━━━━━━━━━━━━━━━\u001b[0m\u001b[37m\u001b[0m \u001b[1m1s\u001b[0m 3ms/step - accuracy: 0.8644 - loss: 0.3146 - val_accuracy: 0.8569 - val_loss: 0.3450\n",
      "Epoch 94/100\n",
      "\u001b[1m200/200\u001b[0m \u001b[32m━━━━━━━━━━━━━━━━━━━━\u001b[0m\u001b[37m\u001b[0m \u001b[1m1s\u001b[0m 3ms/step - accuracy: 0.8740 - loss: 0.3082 - val_accuracy: 0.8562 - val_loss: 0.3450\n",
      "Epoch 95/100\n",
      "\u001b[1m200/200\u001b[0m \u001b[32m━━━━━━━━━━━━━━━━━━━━\u001b[0m\u001b[37m\u001b[0m \u001b[1m1s\u001b[0m 3ms/step - accuracy: 0.8705 - loss: 0.3151 - val_accuracy: 0.8556 - val_loss: 0.3467\n",
      "Epoch 96/100\n",
      "\u001b[1m200/200\u001b[0m \u001b[32m━━━━━━━━━━━━━━━━━━━━\u001b[0m\u001b[37m\u001b[0m \u001b[1m1s\u001b[0m 3ms/step - accuracy: 0.8724 - loss: 0.3092 - val_accuracy: 0.8537 - val_loss: 0.3478\n",
      "Epoch 97/100\n",
      "\u001b[1m200/200\u001b[0m \u001b[32m━━━━━━━━━━━━━━━━━━━━\u001b[0m\u001b[37m\u001b[0m \u001b[1m1s\u001b[0m 3ms/step - accuracy: 0.8733 - loss: 0.3039 - val_accuracy: 0.8544 - val_loss: 0.3471\n",
      "Epoch 98/100\n",
      "\u001b[1m200/200\u001b[0m \u001b[32m━━━━━━━━━━━━━━━━━━━━\u001b[0m\u001b[37m\u001b[0m \u001b[1m1s\u001b[0m 3ms/step - accuracy: 0.8713 - loss: 0.3092 - val_accuracy: 0.8550 - val_loss: 0.3465\n",
      "Epoch 99/100\n",
      "\u001b[1m200/200\u001b[0m \u001b[32m━━━━━━━━━━━━━━━━━━━━\u001b[0m\u001b[37m\u001b[0m \u001b[1m1s\u001b[0m 3ms/step - accuracy: 0.8631 - loss: 0.3242 - val_accuracy: 0.8556 - val_loss: 0.3476\n",
      "Epoch 100/100\n",
      "\u001b[1m200/200\u001b[0m \u001b[32m━━━━━━━━━━━━━━━━━━━━\u001b[0m\u001b[37m\u001b[0m \u001b[1m1s\u001b[0m 3ms/step - accuracy: 0.8785 - loss: 0.2963 - val_accuracy: 0.8550 - val_loss: 0.3463\n"
     ]
    }
   ],
   "source": [
    "#fit the model\n",
    "history=model.fit(x_train_scaled,y_train,epochs=100,validation_split=0.2)"
   ]
  },
  {
   "cell_type": "code",
   "execution_count": 236,
   "metadata": {
    "execution": {
     "iopub.execute_input": "2025-08-13T08:17:00.973648Z",
     "iopub.status.busy": "2025-08-13T08:17:00.973410Z",
     "iopub.status.idle": "2025-08-13T08:17:00.983588Z",
     "shell.execute_reply": "2025-08-13T08:17:00.982630Z",
     "shell.execute_reply.started": "2025-08-13T08:17:00.973630Z"
    },
    "trusted": true
   },
   "outputs": [
    {
     "data": {
      "text/plain": [
       "[array([[ 3.59173715e-01, -5.01215309e-02,  4.04178444e-03,\n",
       "         -6.20686561e-02,  5.01328230e-01,  1.41528109e-02,\n",
       "          1.67683274e-01,  2.01161608e-01, -4.26249236e-01,\n",
       "         -3.26971889e-01,  2.39210259e-02],\n",
       "        [ 3.64750654e-01,  5.16549721e-02, -1.93387568e-02,\n",
       "         -2.32107326e-01,  5.40755272e-01,  3.60490799e-01,\n",
       "         -7.24862516e-01,  2.09759533e-01, -4.31366056e-01,\n",
       "          1.14189637e+00, -9.32950750e-02],\n",
       "        [ 2.15206847e-01,  3.81868303e-01,  1.94580793e-01,\n",
       "         -5.59502468e-02,  9.28450227e-02,  2.17805132e-01,\n",
       "          1.00342311e-01,  4.49906766e-01,  3.32654953e-01,\n",
       "          4.07498479e-01,  4.08094339e-02],\n",
       "        [-1.99264809e-01,  4.27031279e-01, -6.25918508e-01,\n",
       "          4.35911238e-01, -5.57865560e-01,  1.04404345e-01,\n",
       "         -3.52901220e-01, -5.88058472e-01,  3.31744850e-01,\n",
       "         -3.02710116e-01, -8.36813271e-01],\n",
       "        [ 8.32751989e-01, -2.92123139e-01, -2.90891975e-01,\n",
       "          5.26631415e-01, -5.22026181e-01, -1.11708748e+00,\n",
       "          7.66470805e-02, -3.88706148e-01,  9.83563364e-01,\n",
       "          1.11360602e-01, -9.01934803e-01],\n",
       "        [ 7.44923502e-02,  2.17409551e-01, -1.38280571e-01,\n",
       "         -1.05046493e-05,  2.10089728e-01,  2.88438294e-02,\n",
       "         -6.40481561e-02,  2.14584932e-01, -4.16121930e-01,\n",
       "         -2.01410323e-01, -1.35098383e-01],\n",
       "        [-2.44988576e-01,  4.04719919e-01,  2.97112435e-01,\n",
       "         -3.47776204e-01,  7.90486217e-01, -5.77886283e-01,\n",
       "         -4.73139346e-01,  3.56286258e-01,  8.74892175e-02,\n",
       "         -1.25376731e-01, -9.70719904e-02],\n",
       "        [-3.35648470e-02,  4.19211909e-02, -3.31191868e-02,\n",
       "         -1.80390608e-02,  4.22688127e-01,  1.11753680e-01,\n",
       "         -2.13115066e-02, -1.58934236e-01,  8.35900158e-02,\n",
       "         -5.62886775e-01, -1.02825217e-01],\n",
       "        [-2.98554683e-03,  4.52132344e-01, -1.20422676e-01,\n",
       "         -8.12978029e-01,  1.43225059e-01,  1.01328000e-01,\n",
       "          6.81248978e-02, -1.33830354e-01,  1.51206881e-01,\n",
       "          2.03313112e-01,  2.78651565e-01],\n",
       "        [ 1.09193787e-01, -1.54688179e-01,  1.88804910e-01,\n",
       "          7.99663067e-02, -4.89873797e-01,  1.44157797e-01,\n",
       "         -1.59592316e-01,  5.31515837e-01,  3.91967557e-02,\n",
       "          5.74510157e-01, -1.56932473e-01],\n",
       "        [-2.67269284e-01, -2.93855846e-01,  3.95367742e-01,\n",
       "          1.46580592e-01, -5.82922809e-02, -9.70491096e-02,\n",
       "         -8.92567039e-02, -2.16560408e-01, -8.63608345e-02,\n",
       "         -8.22785404e-03, -3.98539938e-02]], dtype=float32),\n",
       " array([ 0.13693585,  0.6197767 ,  0.7363008 ,  0.36798847,  0.10536712,\n",
       "         0.32363147,  1.04166   ,  0.07641622, -0.10096087, -0.67849076,\n",
       "         0.23449053], dtype=float32)]"
      ]
     },
     "execution_count": 236,
     "metadata": {},
     "output_type": "execute_result"
    }
   ],
   "source": [
    "model.layers[0].get_weights()"
   ]
  },
  {
   "cell_type": "code",
   "execution_count": 237,
   "metadata": {
    "execution": {
     "iopub.execute_input": "2025-08-13T08:17:00.984754Z",
     "iopub.status.busy": "2025-08-13T08:17:00.984485Z",
     "iopub.status.idle": "2025-08-13T08:17:01.301404Z",
     "shell.execute_reply": "2025-08-13T08:17:01.300490Z",
     "shell.execute_reply.started": "2025-08-13T08:17:00.984709Z"
    },
    "trusted": true
   },
   "outputs": [
    {
     "name": "stdout",
     "output_type": "stream",
     "text": [
      "\u001b[1m63/63\u001b[0m \u001b[32m━━━━━━━━━━━━━━━━━━━━\u001b[0m\u001b[37m\u001b[0m \u001b[1m0s\u001b[0m 2ms/step\n"
     ]
    }
   ],
   "source": [
    "y_log=model.predict(x_test_scaled)"
   ]
  },
  {
   "cell_type": "code",
   "execution_count": 238,
   "metadata": {
    "execution": {
     "iopub.execute_input": "2025-08-13T08:17:01.303012Z",
     "iopub.status.busy": "2025-08-13T08:17:01.302711Z",
     "iopub.status.idle": "2025-08-13T08:17:01.308473Z",
     "shell.execute_reply": "2025-08-13T08:17:01.307486Z",
     "shell.execute_reply.started": "2025-08-13T08:17:01.302988Z"
    },
    "trusted": true
   },
   "outputs": [],
   "source": [
    "y_pred=np.where(y_log >0.5,1,0)"
   ]
  },
  {
   "cell_type": "code",
   "execution_count": 239,
   "metadata": {
    "execution": {
     "iopub.execute_input": "2025-08-13T08:17:01.309564Z",
     "iopub.status.busy": "2025-08-13T08:17:01.309279Z",
     "iopub.status.idle": "2025-08-13T08:17:01.328174Z",
     "shell.execute_reply": "2025-08-13T08:17:01.327131Z",
     "shell.execute_reply.started": "2025-08-13T08:17:01.309545Z"
    },
    "trusted": true
   },
   "outputs": [],
   "source": [
    "from sklearn.metrics import accuracy_score"
   ]
  },
  {
   "cell_type": "code",
   "execution_count": 240,
   "metadata": {
    "execution": {
     "iopub.execute_input": "2025-08-13T08:17:01.333669Z",
     "iopub.status.busy": "2025-08-13T08:17:01.333370Z",
     "iopub.status.idle": "2025-08-13T08:17:01.349208Z",
     "shell.execute_reply": "2025-08-13T08:17:01.348149Z",
     "shell.execute_reply.started": "2025-08-13T08:17:01.333645Z"
    },
    "trusted": true
   },
   "outputs": [
    {
     "data": {
      "text/plain": [
       "0.867"
      ]
     },
     "execution_count": 240,
     "metadata": {},
     "output_type": "execute_result"
    }
   ],
   "source": [
    "accuracy_score(y_test,y_pred)"
   ]
  },
  {
   "cell_type": "code",
   "execution_count": 244,
   "metadata": {
    "execution": {
     "iopub.execute_input": "2025-08-13T08:19:58.556199Z",
     "iopub.status.busy": "2025-08-13T08:19:58.555910Z",
     "iopub.status.idle": "2025-08-13T08:19:58.561097Z",
     "shell.execute_reply": "2025-08-13T08:19:58.560133Z",
     "shell.execute_reply.started": "2025-08-13T08:19:58.556178Z"
    },
    "trusted": true
   },
   "outputs": [],
   "source": [
    "import matplotlib.pyplot as plt"
   ]
  },
  {
   "cell_type": "code",
   "execution_count": 245,
   "metadata": {
    "execution": {
     "iopub.execute_input": "2025-08-13T08:20:02.584628Z",
     "iopub.status.busy": "2025-08-13T08:20:02.583397Z",
     "iopub.status.idle": "2025-08-13T08:20:02.592767Z",
     "shell.execute_reply": "2025-08-13T08:20:02.591978Z",
     "shell.execute_reply.started": "2025-08-13T08:20:02.584599Z"
    },
    "trusted": true
   },
   "outputs": [
    {
     "data": {
      "text/plain": [
       "{'accuracy': [0.8693749904632568,\n",
       "  0.8670312762260437,\n",
       "  0.8695312738418579,\n",
       "  0.8695312738418579,\n",
       "  0.8682812452316284,\n",
       "  0.8690624833106995,\n",
       "  0.8706250190734863,\n",
       "  0.8698437213897705,\n",
       "  0.8695312738418579,\n",
       "  0.8681250214576721,\n",
       "  0.8696874976158142,\n",
       "  0.8687499761581421,\n",
       "  0.8682812452316284,\n",
       "  0.8678125143051147,\n",
       "  0.8687499761581421,\n",
       "  0.8696874976158142,\n",
       "  0.8700000047683716,\n",
       "  0.8700000047683716,\n",
       "  0.870312511920929,\n",
       "  0.8685937523841858,\n",
       "  0.8685937523841858,\n",
       "  0.8675000071525574,\n",
       "  0.8696874976158142,\n",
       "  0.8701562285423279,\n",
       "  0.8689062595367432,\n",
       "  0.8685937523841858,\n",
       "  0.8684375286102295,\n",
       "  0.8684375286102295,\n",
       "  0.8681250214576721,\n",
       "  0.8706250190734863,\n",
       "  0.8681250214576721,\n",
       "  0.8687499761581421,\n",
       "  0.8696874976158142,\n",
       "  0.8685937523841858,\n",
       "  0.8678125143051147,\n",
       "  0.8698437213897705,\n",
       "  0.8687499761581421,\n",
       "  0.8681250214576721,\n",
       "  0.867968738079071,\n",
       "  0.8681250214576721,\n",
       "  0.8698437213897705,\n",
       "  0.8681250214576721,\n",
       "  0.8687499761581421,\n",
       "  0.867968738079071,\n",
       "  0.8696874976158142,\n",
       "  0.8690624833106995,\n",
       "  0.8673437237739563,\n",
       "  0.8700000047683716,\n",
       "  0.8698437213897705,\n",
       "  0.8695312738418579,\n",
       "  0.8706250190734863,\n",
       "  0.8681250214576721,\n",
       "  0.870312511920929,\n",
       "  0.867968738079071,\n",
       "  0.8693749904632568,\n",
       "  0.8695312738418579,\n",
       "  0.8695312738418579,\n",
       "  0.8695312738418579,\n",
       "  0.8698437213897705,\n",
       "  0.8693749904632568,\n",
       "  0.8682812452316284,\n",
       "  0.8715624809265137,\n",
       "  0.8695312738418579,\n",
       "  0.8701562285423279,\n",
       "  0.87109375,\n",
       "  0.8692187666893005,\n",
       "  0.8714062571525574,\n",
       "  0.8690624833106995,\n",
       "  0.8707812428474426,\n",
       "  0.8685937523841858,\n",
       "  0.8682812452316284,\n",
       "  0.8704687356948853,\n",
       "  0.8692187666893005,\n",
       "  0.8695312738418579,\n",
       "  0.8684375286102295,\n",
       "  0.867968738079071,\n",
       "  0.8698437213897705,\n",
       "  0.8687499761581421,\n",
       "  0.8690624833106995,\n",
       "  0.8685937523841858,\n",
       "  0.8690624833106995,\n",
       "  0.8701562285423279,\n",
       "  0.8701562285423279,\n",
       "  0.87109375,\n",
       "  0.8707812428474426,\n",
       "  0.8717187643051147,\n",
       "  0.8698437213897705,\n",
       "  0.8698437213897705,\n",
       "  0.8712499737739563,\n",
       "  0.8717187643051147,\n",
       "  0.8696874976158142,\n",
       "  0.8706250190734863,\n",
       "  0.8693749904632568,\n",
       "  0.870312511920929,\n",
       "  0.8692187666893005,\n",
       "  0.8717187643051147,\n",
       "  0.8717187643051147,\n",
       "  0.870312511920929,\n",
       "  0.8700000047683716,\n",
       "  0.8698437213897705],\n",
       " 'loss': [0.31705424189567566,\n",
       "  0.31667032837867737,\n",
       "  0.31703174114227295,\n",
       "  0.31684717535972595,\n",
       "  0.3170561194419861,\n",
       "  0.3163436949253082,\n",
       "  0.31655457615852356,\n",
       "  0.3164512515068054,\n",
       "  0.3163684010505676,\n",
       "  0.31671392917633057,\n",
       "  0.3162921965122223,\n",
       "  0.31666162610054016,\n",
       "  0.31579822301864624,\n",
       "  0.31615689396858215,\n",
       "  0.3164859712123871,\n",
       "  0.3160133361816406,\n",
       "  0.3154698610305786,\n",
       "  0.3156053423881531,\n",
       "  0.3154325783252716,\n",
       "  0.315321147441864,\n",
       "  0.31560754776000977,\n",
       "  0.3152473568916321,\n",
       "  0.314761221408844,\n",
       "  0.3155330419540405,\n",
       "  0.31498584151268005,\n",
       "  0.31552913784980774,\n",
       "  0.3149876296520233,\n",
       "  0.31490078568458557,\n",
       "  0.31519806385040283,\n",
       "  0.3149615526199341,\n",
       "  0.31462952494621277,\n",
       "  0.31505411863327026,\n",
       "  0.3147757053375244,\n",
       "  0.31488147377967834,\n",
       "  0.314602255821228,\n",
       "  0.31462720036506653,\n",
       "  0.31496086716651917,\n",
       "  0.3147098124027252,\n",
       "  0.3148340880870819,\n",
       "  0.314554899930954,\n",
       "  0.31393006443977356,\n",
       "  0.31473320722579956,\n",
       "  0.31407156586647034,\n",
       "  0.31399017572402954,\n",
       "  0.31369686126708984,\n",
       "  0.31373822689056396,\n",
       "  0.3142491579055786,\n",
       "  0.31415122747421265,\n",
       "  0.3139776289463043,\n",
       "  0.313585102558136,\n",
       "  0.31391650438308716,\n",
       "  0.31391045451164246,\n",
       "  0.3135310411453247,\n",
       "  0.31355249881744385,\n",
       "  0.3132556974887848,\n",
       "  0.3132382929325104,\n",
       "  0.3135474920272827,\n",
       "  0.31315064430236816,\n",
       "  0.3136257827281952,\n",
       "  0.3138557970523834,\n",
       "  0.3137766122817993,\n",
       "  0.31312665343284607,\n",
       "  0.3133862614631653,\n",
       "  0.3130924701690674,\n",
       "  0.3133136034011841,\n",
       "  0.3125312328338623,\n",
       "  0.31292930245399475,\n",
       "  0.31318017840385437,\n",
       "  0.3126928210258484,\n",
       "  0.3135882616043091,\n",
       "  0.3132227957248688,\n",
       "  0.3135180175304413,\n",
       "  0.31306231021881104,\n",
       "  0.31308162212371826,\n",
       "  0.3127622902393341,\n",
       "  0.31314781308174133,\n",
       "  0.31284260749816895,\n",
       "  0.31256815791130066,\n",
       "  0.312639981508255,\n",
       "  0.31281155347824097,\n",
       "  0.31249964237213135,\n",
       "  0.3121265470981598,\n",
       "  0.31282633543014526,\n",
       "  0.3127167224884033,\n",
       "  0.31260356307029724,\n",
       "  0.312640905380249,\n",
       "  0.3123700022697449,\n",
       "  0.31211405992507935,\n",
       "  0.31275954842567444,\n",
       "  0.31178078055381775,\n",
       "  0.3121904134750366,\n",
       "  0.3127671480178833,\n",
       "  0.3124460279941559,\n",
       "  0.3122405707836151,\n",
       "  0.3126136362552643,\n",
       "  0.31270772218704224,\n",
       "  0.3115198314189911,\n",
       "  0.31203022599220276,\n",
       "  0.31172269582748413,\n",
       "  0.31199246644973755],\n",
       " 'val_accuracy': [0.8568750023841858,\n",
       "  0.8587499856948853,\n",
       "  0.8531249761581421,\n",
       "  0.8543750047683716,\n",
       "  0.8587499856948853,\n",
       "  0.8581249713897705,\n",
       "  0.8537499904632568,\n",
       "  0.859375,\n",
       "  0.856249988079071,\n",
       "  0.859375,\n",
       "  0.8575000166893005,\n",
       "  0.862500011920929,\n",
       "  0.856249988079071,\n",
       "  0.8568750023841858,\n",
       "  0.8575000166893005,\n",
       "  0.8556249737739563,\n",
       "  0.8618749976158142,\n",
       "  0.856249988079071,\n",
       "  0.8543750047683716,\n",
       "  0.8537499904632568,\n",
       "  0.8550000190734863,\n",
       "  0.8525000214576721,\n",
       "  0.8575000166893005,\n",
       "  0.8550000190734863,\n",
       "  0.8512499928474426,\n",
       "  0.8543750047683716,\n",
       "  0.8575000166893005,\n",
       "  0.8575000166893005,\n",
       "  0.8531249761581421,\n",
       "  0.859375,\n",
       "  0.8606250286102295,\n",
       "  0.8587499856948853,\n",
       "  0.8568750023841858,\n",
       "  0.8606250286102295,\n",
       "  0.8581249713897705,\n",
       "  0.8575000166893005,\n",
       "  0.8556249737739563,\n",
       "  0.8543750047683716,\n",
       "  0.8550000190734863,\n",
       "  0.8581249713897705,\n",
       "  0.8543750047683716,\n",
       "  0.8550000190734863,\n",
       "  0.8525000214576721,\n",
       "  0.8568750023841858,\n",
       "  0.8575000166893005,\n",
       "  0.8550000190734863,\n",
       "  0.8568750023841858,\n",
       "  0.8543750047683716,\n",
       "  0.8550000190734863,\n",
       "  0.8543750047683716,\n",
       "  0.8525000214576721,\n",
       "  0.8506249785423279,\n",
       "  0.8556249737739563,\n",
       "  0.8575000166893005,\n",
       "  0.8568750023841858,\n",
       "  0.8543750047683716,\n",
       "  0.8550000190734863,\n",
       "  0.8568750023841858,\n",
       "  0.8518750071525574,\n",
       "  0.856249988079071,\n",
       "  0.8550000190734863,\n",
       "  0.856249988079071,\n",
       "  0.8556249737739563,\n",
       "  0.8543750047683716,\n",
       "  0.8556249737739563,\n",
       "  0.8525000214576721,\n",
       "  0.8531249761581421,\n",
       "  0.8575000166893005,\n",
       "  0.8581249713897705,\n",
       "  0.8581249713897705,\n",
       "  0.8543750047683716,\n",
       "  0.8556249737739563,\n",
       "  0.8556249737739563,\n",
       "  0.8525000214576721,\n",
       "  0.8556249737739563,\n",
       "  0.8550000190734863,\n",
       "  0.8525000214576721,\n",
       "  0.8568750023841858,\n",
       "  0.8575000166893005,\n",
       "  0.8537499904632568,\n",
       "  0.8556249737739563,\n",
       "  0.8575000166893005,\n",
       "  0.8487499952316284,\n",
       "  0.8575000166893005,\n",
       "  0.8575000166893005,\n",
       "  0.8556249737739563,\n",
       "  0.8525000214576721,\n",
       "  0.8537499904632568,\n",
       "  0.8531249761581421,\n",
       "  0.8568750023841858,\n",
       "  0.8543750047683716,\n",
       "  0.8581249713897705,\n",
       "  0.8568750023841858,\n",
       "  0.856249988079071,\n",
       "  0.8556249737739563,\n",
       "  0.8537499904632568,\n",
       "  0.8543750047683716,\n",
       "  0.8550000190734863,\n",
       "  0.8556249737739563,\n",
       "  0.8550000190734863],\n",
       " 'val_loss': [0.3387939929962158,\n",
       "  0.3390761911869049,\n",
       "  0.3423534035682678,\n",
       "  0.34202197194099426,\n",
       "  0.34058621525764465,\n",
       "  0.33973538875579834,\n",
       "  0.3418307602405548,\n",
       "  0.33973580598831177,\n",
       "  0.34036263823509216,\n",
       "  0.34147003293037415,\n",
       "  0.340242475271225,\n",
       "  0.339039146900177,\n",
       "  0.3403707444667816,\n",
       "  0.34282368421554565,\n",
       "  0.34164685010910034,\n",
       "  0.34157654643058777,\n",
       "  0.3389850854873657,\n",
       "  0.34072211384773254,\n",
       "  0.3427189886569977,\n",
       "  0.34118834137916565,\n",
       "  0.3407905697822571,\n",
       "  0.34034329652786255,\n",
       "  0.3400401175022125,\n",
       "  0.34074634313583374,\n",
       "  0.3418397903442383,\n",
       "  0.3434300720691681,\n",
       "  0.34010329842567444,\n",
       "  0.34097564220428467,\n",
       "  0.34250953793525696,\n",
       "  0.3407565951347351,\n",
       "  0.3415946960449219,\n",
       "  0.3418887257575989,\n",
       "  0.34155258536338806,\n",
       "  0.3397390842437744,\n",
       "  0.3410789966583252,\n",
       "  0.3405281901359558,\n",
       "  0.3428539037704468,\n",
       "  0.342301607131958,\n",
       "  0.34280410408973694,\n",
       "  0.34251177310943604,\n",
       "  0.34301772713661194,\n",
       "  0.342670738697052,\n",
       "  0.34166577458381653,\n",
       "  0.34197190403938293,\n",
       "  0.34384337067604065,\n",
       "  0.3425987958908081,\n",
       "  0.3424862027168274,\n",
       "  0.34433993697166443,\n",
       "  0.3438723087310791,\n",
       "  0.3440358340740204,\n",
       "  0.3444368243217468,\n",
       "  0.3459494411945343,\n",
       "  0.3423203229904175,\n",
       "  0.34209322929382324,\n",
       "  0.3427118957042694,\n",
       "  0.3449266850948334,\n",
       "  0.3450641334056854,\n",
       "  0.34538155794143677,\n",
       "  0.34554728865623474,\n",
       "  0.3435359299182892,\n",
       "  0.3448070287704468,\n",
       "  0.34398335218429565,\n",
       "  0.3442898988723755,\n",
       "  0.3428812026977539,\n",
       "  0.34531906247138977,\n",
       "  0.347890168428421,\n",
       "  0.3459579348564148,\n",
       "  0.34460097551345825,\n",
       "  0.34323492646217346,\n",
       "  0.3430066704750061,\n",
       "  0.34611260890960693,\n",
       "  0.3455098271369934,\n",
       "  0.3450137674808502,\n",
       "  0.3465335965156555,\n",
       "  0.34598803520202637,\n",
       "  0.3455449938774109,\n",
       "  0.34966766834259033,\n",
       "  0.34432438015937805,\n",
       "  0.34491536021232605,\n",
       "  0.34533390402793884,\n",
       "  0.34419214725494385,\n",
       "  0.34784606099128723,\n",
       "  0.3503255546092987,\n",
       "  0.3465597927570343,\n",
       "  0.3447285592556,\n",
       "  0.3465810716152191,\n",
       "  0.3473341763019562,\n",
       "  0.34612080454826355,\n",
       "  0.34696638584136963,\n",
       "  0.344694048166275,\n",
       "  0.34799858927726746,\n",
       "  0.34528517723083496,\n",
       "  0.3450186848640442,\n",
       "  0.34502726793289185,\n",
       "  0.34674784541130066,\n",
       "  0.34778472781181335,\n",
       "  0.3471156656742096,\n",
       "  0.3464760184288025,\n",
       "  0.34764614701271057,\n",
       "  0.3462934195995331]}"
      ]
     },
     "execution_count": 245,
     "metadata": {},
     "output_type": "execute_result"
    }
   ],
   "source": [
    "history.history"
   ]
  },
  {
   "cell_type": "code",
   "execution_count": 253,
   "metadata": {
    "execution": {
     "iopub.execute_input": "2025-08-13T08:22:15.120383Z",
     "iopub.status.busy": "2025-08-13T08:22:15.120039Z",
     "iopub.status.idle": "2025-08-13T08:22:15.304682Z",
     "shell.execute_reply": "2025-08-13T08:22:15.303663Z",
     "shell.execute_reply.started": "2025-08-13T08:22:15.120360Z"
    },
    "trusted": true
   },
   "outputs": [
    {
     "data": {
      "text/plain": [
       "[<matplotlib.lines.Line2D at 0x7a38e06acb10>]"
      ]
     },
     "execution_count": 253,
     "metadata": {},
     "output_type": "execute_result"
    },
    {
     "data": {
      "image/png": "[encoded data removed]",
      "text/plain": [
       "<Figure size 640x480 with 1 Axes>"
      ]
     },
     "metadata": {},
     "output_type": "display_data"
    }
   ],
   "source": [
    "plt.plot(history.history['loss'])\n",
    "plt.plot(history.history['val_loss'])"
   ]
  },
  {
   "cell_type": "code",
   "execution_count": 254,
   "metadata": {
    "execution": {
     "iopub.execute_input": "2025-08-13T08:22:55.898279Z",
     "iopub.status.busy": "2025-08-13T08:22:55.897913Z",
     "iopub.status.idle": "2025-08-13T08:22:56.067538Z",
     "shell.execute_reply": "2025-08-13T08:22:56.066344Z",
     "shell.execute_reply.started": "2025-08-13T08:22:55.898226Z"
    },
    "trusted": true
   },
   "outputs": [
    {
     "data": {
      "text/plain": [
       "[<matplotlib.lines.Line2D at 0x7a38e0d372d0>]"
      ]
     },
     "execution_count": 254,
     "metadata": {},
     "output_type": "execute_result"
    },
    {
     "data": {
      "image/png": "[encoded data removed]",
      "text/plain": [
       "<Figure size 640x480 with 1 Axes>"
      ]
     },
     "metadata": {},
     "output_type": "display_data"
    }
   ],
   "source": [
    "plt.plot(history.history['accuracy'])\n",
    "plt.plot(history.history['val_accuracy'])"
   ]
  }
 ],
 "metadata": {
  "kaggle": {
   "accelerator": "none",
   "dataSources": [
    {
     "datasetId": 869651,
     "sourceId": 1481789,
     "sourceType": "datasetVersion"
    }
   ],
   "dockerImageVersionId": 31089,
   "isGpuEnabled": false,
   "isInternetEnabled": true,
   "language": "python",
   "sourceType": "notebook"
  },
  "kernelspec": {
   "display_name": "Python 3",
   "language": "python",
   "name": "python3"
  },
  "language_info": {
   "codemirror_mode": {
    "name": "ipython",
    "version": 3
   },
   "file_extension": ".py",
   "mimetype": "text/x-python",
   "name": "python",
   "nbconvert_exporter": "python",
   "pygments_lexer": "ipython3",
   "version": "3.11.13"
  }
 },
 "nbformat": 4,
 "nbformat_minor": 4
}
